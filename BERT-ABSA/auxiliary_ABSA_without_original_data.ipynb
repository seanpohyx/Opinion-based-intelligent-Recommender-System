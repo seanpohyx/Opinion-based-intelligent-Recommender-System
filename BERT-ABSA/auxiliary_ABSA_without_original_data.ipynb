{
 "nbformat": 4,
 "nbformat_minor": 0,
 "metadata": {
  "colab": {
   "name": "auxiliary_ABSA_without_original_data.ipynb",
   "provenance": [],
   "collapsed_sections": [
    "RGppwe378yBg",
    "ZXq1AxKp8t1_"
   ],
   "machine_shape": "hm"
  },
  "kernelspec": {
   "name": "python3",
   "display_name": "Python 3"
  },
  "accelerator": "TPU",
  "widgets": {
   "application/vnd.jupyter.widget-state+json": {
    "0a15f22e3fe642389c7c626dc15ee4f1": {
     "model_module": "@jupyter-widgets/controls",
     "model_name": "HBoxModel",
     "state": {
      "_view_name": "HBoxView",
      "_dom_classes": [],
      "_model_name": "HBoxModel",
      "_view_module": "@jupyter-widgets/controls",
      "_model_module_version": "1.5.0",
      "_view_count": null,
      "_view_module_version": "1.5.0",
      "box_style": "",
      "layout": "IPY_MODEL_b031103005f346e59e6be3206bdfd6ae",
      "_model_module": "@jupyter-widgets/controls",
      "children": [
       "IPY_MODEL_9d4fe979913a4b389519529964a53aa7",
       "IPY_MODEL_332695db33434dbca88b329d19ebab0f"
      ]
     }
    },
    "b031103005f346e59e6be3206bdfd6ae": {
     "model_module": "@jupyter-widgets/base",
     "model_name": "LayoutModel",
     "state": {
      "_view_name": "LayoutView",
      "grid_template_rows": null,
      "right": null,
      "justify_content": null,
      "_view_module": "@jupyter-widgets/base",
      "overflow": null,
      "_model_module_version": "1.2.0",
      "_view_count": null,
      "flex_flow": null,
      "width": null,
      "min_width": null,
      "border": null,
      "align_items": null,
      "bottom": null,
      "_model_module": "@jupyter-widgets/base",
      "top": null,
      "grid_column": null,
      "overflow_y": null,
      "overflow_x": null,
      "grid_auto_flow": null,
      "grid_area": null,
      "grid_template_columns": null,
      "flex": null,
      "_model_name": "LayoutModel",
      "justify_items": null,
      "grid_row": null,
      "max_height": null,
      "align_content": null,
      "visibility": null,
      "align_self": null,
      "height": null,
      "min_height": null,
      "padding": null,
      "grid_auto_rows": null,
      "grid_gap": null,
      "max_width": null,
      "order": null,
      "_view_module_version": "1.2.0",
      "grid_template_areas": null,
      "object_position": null,
      "object_fit": null,
      "grid_auto_columns": null,
      "margin": null,
      "display": null,
      "left": null
     }
    },
    "9d4fe979913a4b389519529964a53aa7": {
     "model_module": "@jupyter-widgets/controls",
     "model_name": "FloatProgressModel",
     "state": {
      "_view_name": "ProgressView",
      "style": "IPY_MODEL_eb9ba55717f84e57b6a73bd8f2f36f9c",
      "_dom_classes": [],
      "description": "Downloading: 100%",
      "_model_name": "FloatProgressModel",
      "bar_style": "success",
      "max": 231508,
      "_view_module": "@jupyter-widgets/controls",
      "_model_module_version": "1.5.0",
      "value": 231508,
      "_view_count": null,
      "_view_module_version": "1.5.0",
      "orientation": "horizontal",
      "min": 0,
      "description_tooltip": null,
      "_model_module": "@jupyter-widgets/controls",
      "layout": "IPY_MODEL_c76097c6e4b643609eface0bcf2caa4d"
     }
    },
    "332695db33434dbca88b329d19ebab0f": {
     "model_module": "@jupyter-widgets/controls",
     "model_name": "HTMLModel",
     "state": {
      "_view_name": "HTMLView",
      "style": "IPY_MODEL_1f6dd43931794d6ba161fcfea66d0da8",
      "_dom_classes": [],
      "description": "",
      "_model_name": "HTMLModel",
      "placeholder": "​",
      "_view_module": "@jupyter-widgets/controls",
      "_model_module_version": "1.5.0",
      "value": " 232k/232k [00:00&lt;00:00, 1.40MB/s]",
      "_view_count": null,
      "_view_module_version": "1.5.0",
      "description_tooltip": null,
      "_model_module": "@jupyter-widgets/controls",
      "layout": "IPY_MODEL_c55130b754414d75826a3eb533ccf4c7"
     }
    },
    "eb9ba55717f84e57b6a73bd8f2f36f9c": {
     "model_module": "@jupyter-widgets/controls",
     "model_name": "ProgressStyleModel",
     "state": {
      "_view_name": "StyleView",
      "_model_name": "ProgressStyleModel",
      "description_width": "initial",
      "_view_module": "@jupyter-widgets/base",
      "_model_module_version": "1.5.0",
      "_view_count": null,
      "_view_module_version": "1.2.0",
      "bar_color": null,
      "_model_module": "@jupyter-widgets/controls"
     }
    },
    "c76097c6e4b643609eface0bcf2caa4d": {
     "model_module": "@jupyter-widgets/base",
     "model_name": "LayoutModel",
     "state": {
      "_view_name": "LayoutView",
      "grid_template_rows": null,
      "right": null,
      "justify_content": null,
      "_view_module": "@jupyter-widgets/base",
      "overflow": null,
      "_model_module_version": "1.2.0",
      "_view_count": null,
      "flex_flow": null,
      "width": null,
      "min_width": null,
      "border": null,
      "align_items": null,
      "bottom": null,
      "_model_module": "@jupyter-widgets/base",
      "top": null,
      "grid_column": null,
      "overflow_y": null,
      "overflow_x": null,
      "grid_auto_flow": null,
      "grid_area": null,
      "grid_template_columns": null,
      "flex": null,
      "_model_name": "LayoutModel",
      "justify_items": null,
      "grid_row": null,
      "max_height": null,
      "align_content": null,
      "visibility": null,
      "align_self": null,
      "height": null,
      "min_height": null,
      "padding": null,
      "grid_auto_rows": null,
      "grid_gap": null,
      "max_width": null,
      "order": null,
      "_view_module_version": "1.2.0",
      "grid_template_areas": null,
      "object_position": null,
      "object_fit": null,
      "grid_auto_columns": null,
      "margin": null,
      "display": null,
      "left": null
     }
    },
    "1f6dd43931794d6ba161fcfea66d0da8": {
     "model_module": "@jupyter-widgets/controls",
     "model_name": "DescriptionStyleModel",
     "state": {
      "_view_name": "StyleView",
      "_model_name": "DescriptionStyleModel",
      "description_width": "",
      "_view_module": "@jupyter-widgets/base",
      "_model_module_version": "1.5.0",
      "_view_count": null,
      "_view_module_version": "1.2.0",
      "_model_module": "@jupyter-widgets/controls"
     }
    },
    "c55130b754414d75826a3eb533ccf4c7": {
     "model_module": "@jupyter-widgets/base",
     "model_name": "LayoutModel",
     "state": {
      "_view_name": "LayoutView",
      "grid_template_rows": null,
      "right": null,
      "justify_content": null,
      "_view_module": "@jupyter-widgets/base",
      "overflow": null,
      "_model_module_version": "1.2.0",
      "_view_count": null,
      "flex_flow": null,
      "width": null,
      "min_width": null,
      "border": null,
      "align_items": null,
      "bottom": null,
      "_model_module": "@jupyter-widgets/base",
      "top": null,
      "grid_column": null,
      "overflow_y": null,
      "overflow_x": null,
      "grid_auto_flow": null,
      "grid_area": null,
      "grid_template_columns": null,
      "flex": null,
      "_model_name": "LayoutModel",
      "justify_items": null,
      "grid_row": null,
      "max_height": null,
      "align_content": null,
      "visibility": null,
      "align_self": null,
      "height": null,
      "min_height": null,
      "padding": null,
      "grid_auto_rows": null,
      "grid_gap": null,
      "max_width": null,
      "order": null,
      "_view_module_version": "1.2.0",
      "grid_template_areas": null,
      "object_position": null,
      "object_fit": null,
      "grid_auto_columns": null,
      "margin": null,
      "display": null,
      "left": null
     }
    },
    "f1c25d0ea8ad476794b7d9350f4f27d1": {
     "model_module": "@jupyter-widgets/controls",
     "model_name": "HBoxModel",
     "state": {
      "_view_name": "HBoxView",
      "_dom_classes": [],
      "_model_name": "HBoxModel",
      "_view_module": "@jupyter-widgets/controls",
      "_model_module_version": "1.5.0",
      "_view_count": null,
      "_view_module_version": "1.5.0",
      "box_style": "",
      "layout": "IPY_MODEL_a126b3205f884e61a8bbd541557efbbc",
      "_model_module": "@jupyter-widgets/controls",
      "children": [
       "IPY_MODEL_eacb548b83374310a3691acc6d6a0e2e",
       "IPY_MODEL_59002154b90546738f5473252832b039"
      ]
     }
    },
    "a126b3205f884e61a8bbd541557efbbc": {
     "model_module": "@jupyter-widgets/base",
     "model_name": "LayoutModel",
     "state": {
      "_view_name": "LayoutView",
      "grid_template_rows": null,
      "right": null,
      "justify_content": null,
      "_view_module": "@jupyter-widgets/base",
      "overflow": null,
      "_model_module_version": "1.2.0",
      "_view_count": null,
      "flex_flow": null,
      "width": null,
      "min_width": null,
      "border": null,
      "align_items": null,
      "bottom": null,
      "_model_module": "@jupyter-widgets/base",
      "top": null,
      "grid_column": null,
      "overflow_y": null,
      "overflow_x": null,
      "grid_auto_flow": null,
      "grid_area": null,
      "grid_template_columns": null,
      "flex": null,
      "_model_name": "LayoutModel",
      "justify_items": null,
      "grid_row": null,
      "max_height": null,
      "align_content": null,
      "visibility": null,
      "align_self": null,
      "height": null,
      "min_height": null,
      "padding": null,
      "grid_auto_rows": null,
      "grid_gap": null,
      "max_width": null,
      "order": null,
      "_view_module_version": "1.2.0",
      "grid_template_areas": null,
      "object_position": null,
      "object_fit": null,
      "grid_auto_columns": null,
      "margin": null,
      "display": null,
      "left": null
     }
    },
    "eacb548b83374310a3691acc6d6a0e2e": {
     "model_module": "@jupyter-widgets/controls",
     "model_name": "FloatProgressModel",
     "state": {
      "_view_name": "ProgressView",
      "style": "IPY_MODEL_5b8e482c86294a9facd37a953a1b9355",
      "_dom_classes": [],
      "description": "Downloading: 100%",
      "_model_name": "FloatProgressModel",
      "bar_style": "success",
      "max": 433,
      "_view_module": "@jupyter-widgets/controls",
      "_model_module_version": "1.5.0",
      "value": 433,
      "_view_count": null,
      "_view_module_version": "1.5.0",
      "orientation": "horizontal",
      "min": 0,
      "description_tooltip": null,
      "_model_module": "@jupyter-widgets/controls",
      "layout": "IPY_MODEL_9320f351a6204b78a1b108ebe7878c6b"
     }
    },
    "59002154b90546738f5473252832b039": {
     "model_module": "@jupyter-widgets/controls",
     "model_name": "HTMLModel",
     "state": {
      "_view_name": "HTMLView",
      "style": "IPY_MODEL_da65a9acc0d64618984c7cceb721bf26",
      "_dom_classes": [],
      "description": "",
      "_model_name": "HTMLModel",
      "placeholder": "​",
      "_view_module": "@jupyter-widgets/controls",
      "_model_module_version": "1.5.0",
      "value": " 433/433 [00:00&lt;00:00, 2.66kB/s]",
      "_view_count": null,
      "_view_module_version": "1.5.0",
      "description_tooltip": null,
      "_model_module": "@jupyter-widgets/controls",
      "layout": "IPY_MODEL_5dde166010ba459f89198697ca873fd1"
     }
    },
    "5b8e482c86294a9facd37a953a1b9355": {
     "model_module": "@jupyter-widgets/controls",
     "model_name": "ProgressStyleModel",
     "state": {
      "_view_name": "StyleView",
      "_model_name": "ProgressStyleModel",
      "description_width": "initial",
      "_view_module": "@jupyter-widgets/base",
      "_model_module_version": "1.5.0",
      "_view_count": null,
      "_view_module_version": "1.2.0",
      "bar_color": null,
      "_model_module": "@jupyter-widgets/controls"
     }
    },
    "9320f351a6204b78a1b108ebe7878c6b": {
     "model_module": "@jupyter-widgets/base",
     "model_name": "LayoutModel",
     "state": {
      "_view_name": "LayoutView",
      "grid_template_rows": null,
      "right": null,
      "justify_content": null,
      "_view_module": "@jupyter-widgets/base",
      "overflow": null,
      "_model_module_version": "1.2.0",
      "_view_count": null,
      "flex_flow": null,
      "width": null,
      "min_width": null,
      "border": null,
      "align_items": null,
      "bottom": null,
      "_model_module": "@jupyter-widgets/base",
      "top": null,
      "grid_column": null,
      "overflow_y": null,
      "overflow_x": null,
      "grid_auto_flow": null,
      "grid_area": null,
      "grid_template_columns": null,
      "flex": null,
      "_model_name": "LayoutModel",
      "justify_items": null,
      "grid_row": null,
      "max_height": null,
      "align_content": null,
      "visibility": null,
      "align_self": null,
      "height": null,
      "min_height": null,
      "padding": null,
      "grid_auto_rows": null,
      "grid_gap": null,
      "max_width": null,
      "order": null,
      "_view_module_version": "1.2.0",
      "grid_template_areas": null,
      "object_position": null,
      "object_fit": null,
      "grid_auto_columns": null,
      "margin": null,
      "display": null,
      "left": null
     }
    },
    "da65a9acc0d64618984c7cceb721bf26": {
     "model_module": "@jupyter-widgets/controls",
     "model_name": "DescriptionStyleModel",
     "state": {
      "_view_name": "StyleView",
      "_model_name": "DescriptionStyleModel",
      "description_width": "",
      "_view_module": "@jupyter-widgets/base",
      "_model_module_version": "1.5.0",
      "_view_count": null,
      "_view_module_version": "1.2.0",
      "_model_module": "@jupyter-widgets/controls"
     }
    },
    "5dde166010ba459f89198697ca873fd1": {
     "model_module": "@jupyter-widgets/base",
     "model_name": "LayoutModel",
     "state": {
      "_view_name": "LayoutView",
      "grid_template_rows": null,
      "right": null,
      "justify_content": null,
      "_view_module": "@jupyter-widgets/base",
      "overflow": null,
      "_model_module_version": "1.2.0",
      "_view_count": null,
      "flex_flow": null,
      "width": null,
      "min_width": null,
      "border": null,
      "align_items": null,
      "bottom": null,
      "_model_module": "@jupyter-widgets/base",
      "top": null,
      "grid_column": null,
      "overflow_y": null,
      "overflow_x": null,
      "grid_auto_flow": null,
      "grid_area": null,
      "grid_template_columns": null,
      "flex": null,
      "_model_name": "LayoutModel",
      "justify_items": null,
      "grid_row": null,
      "max_height": null,
      "align_content": null,
      "visibility": null,
      "align_self": null,
      "height": null,
      "min_height": null,
      "padding": null,
      "grid_auto_rows": null,
      "grid_gap": null,
      "max_width": null,
      "order": null,
      "_view_module_version": "1.2.0",
      "grid_template_areas": null,
      "object_position": null,
      "object_fit": null,
      "grid_auto_columns": null,
      "margin": null,
      "display": null,
      "left": null
     }
    },
    "23933a26d692422296c64c4d4e64f1f7": {
     "model_module": "@jupyter-widgets/controls",
     "model_name": "HBoxModel",
     "state": {
      "_view_name": "HBoxView",
      "_dom_classes": [],
      "_model_name": "HBoxModel",
      "_view_module": "@jupyter-widgets/controls",
      "_model_module_version": "1.5.0",
      "_view_count": null,
      "_view_module_version": "1.5.0",
      "box_style": "",
      "layout": "IPY_MODEL_8562641f287846c2b7aa631e11ab9b53",
      "_model_module": "@jupyter-widgets/controls",
      "children": [
       "IPY_MODEL_a0e3de9ddf524a3a8f002ee11672ee76",
       "IPY_MODEL_e0cd4537f07a4c8b87c7650f8632b7dc"
      ]
     }
    },
    "8562641f287846c2b7aa631e11ab9b53": {
     "model_module": "@jupyter-widgets/base",
     "model_name": "LayoutModel",
     "state": {
      "_view_name": "LayoutView",
      "grid_template_rows": null,
      "right": null,
      "justify_content": null,
      "_view_module": "@jupyter-widgets/base",
      "overflow": null,
      "_model_module_version": "1.2.0",
      "_view_count": null,
      "flex_flow": null,
      "width": null,
      "min_width": null,
      "border": null,
      "align_items": null,
      "bottom": null,
      "_model_module": "@jupyter-widgets/base",
      "top": null,
      "grid_column": null,
      "overflow_y": null,
      "overflow_x": null,
      "grid_auto_flow": null,
      "grid_area": null,
      "grid_template_columns": null,
      "flex": null,
      "_model_name": "LayoutModel",
      "justify_items": null,
      "grid_row": null,
      "max_height": null,
      "align_content": null,
      "visibility": null,
      "align_self": null,
      "height": null,
      "min_height": null,
      "padding": null,
      "grid_auto_rows": null,
      "grid_gap": null,
      "max_width": null,
      "order": null,
      "_view_module_version": "1.2.0",
      "grid_template_areas": null,
      "object_position": null,
      "object_fit": null,
      "grid_auto_columns": null,
      "margin": null,
      "display": null,
      "left": null
     }
    },
    "a0e3de9ddf524a3a8f002ee11672ee76": {
     "model_module": "@jupyter-widgets/controls",
     "model_name": "FloatProgressModel",
     "state": {
      "_view_name": "ProgressView",
      "style": "IPY_MODEL_42a15c7687af4908a949aab5f424a76f",
      "_dom_classes": [],
      "description": "Downloading: 100%",
      "_model_name": "FloatProgressModel",
      "bar_style": "success",
      "max": 536063208,
      "_view_module": "@jupyter-widgets/controls",
      "_model_module_version": "1.5.0",
      "value": 536063208,
      "_view_count": null,
      "_view_module_version": "1.5.0",
      "orientation": "horizontal",
      "min": 0,
      "description_tooltip": null,
      "_model_module": "@jupyter-widgets/controls",
      "layout": "IPY_MODEL_b1aae5cf0cd149d8b444b1b04cacfd32"
     }
    },
    "e0cd4537f07a4c8b87c7650f8632b7dc": {
     "model_module": "@jupyter-widgets/controls",
     "model_name": "HTMLModel",
     "state": {
      "_view_name": "HTMLView",
      "style": "IPY_MODEL_e0c73bb99ad642c290317e5cf4368eef",
      "_dom_classes": [],
      "description": "",
      "_model_name": "HTMLModel",
      "placeholder": "​",
      "_view_module": "@jupyter-widgets/controls",
      "_model_module_version": "1.5.0",
      "value": " 536M/536M [00:11&lt;00:00, 44.8MB/s]",
      "_view_count": null,
      "_view_module_version": "1.5.0",
      "description_tooltip": null,
      "_model_module": "@jupyter-widgets/controls",
      "layout": "IPY_MODEL_cd33a979671d4110a1e8d533b5253c7a"
     }
    },
    "42a15c7687af4908a949aab5f424a76f": {
     "model_module": "@jupyter-widgets/controls",
     "model_name": "ProgressStyleModel",
     "state": {
      "_view_name": "StyleView",
      "_model_name": "ProgressStyleModel",
      "description_width": "initial",
      "_view_module": "@jupyter-widgets/base",
      "_model_module_version": "1.5.0",
      "_view_count": null,
      "_view_module_version": "1.2.0",
      "bar_color": null,
      "_model_module": "@jupyter-widgets/controls"
     }
    },
    "b1aae5cf0cd149d8b444b1b04cacfd32": {
     "model_module": "@jupyter-widgets/base",
     "model_name": "LayoutModel",
     "state": {
      "_view_name": "LayoutView",
      "grid_template_rows": null,
      "right": null,
      "justify_content": null,
      "_view_module": "@jupyter-widgets/base",
      "overflow": null,
      "_model_module_version": "1.2.0",
      "_view_count": null,
      "flex_flow": null,
      "width": null,
      "min_width": null,
      "border": null,
      "align_items": null,
      "bottom": null,
      "_model_module": "@jupyter-widgets/base",
      "top": null,
      "grid_column": null,
      "overflow_y": null,
      "overflow_x": null,
      "grid_auto_flow": null,
      "grid_area": null,
      "grid_template_columns": null,
      "flex": null,
      "_model_name": "LayoutModel",
      "justify_items": null,
      "grid_row": null,
      "max_height": null,
      "align_content": null,
      "visibility": null,
      "align_self": null,
      "height": null,
      "min_height": null,
      "padding": null,
      "grid_auto_rows": null,
      "grid_gap": null,
      "max_width": null,
      "order": null,
      "_view_module_version": "1.2.0",
      "grid_template_areas": null,
      "object_position": null,
      "object_fit": null,
      "grid_auto_columns": null,
      "margin": null,
      "display": null,
      "left": null
     }
    },
    "e0c73bb99ad642c290317e5cf4368eef": {
     "model_module": "@jupyter-widgets/controls",
     "model_name": "DescriptionStyleModel",
     "state": {
      "_view_name": "StyleView",
      "_model_name": "DescriptionStyleModel",
      "description_width": "",
      "_view_module": "@jupyter-widgets/base",
      "_model_module_version": "1.5.0",
      "_view_count": null,
      "_view_module_version": "1.2.0",
      "_model_module": "@jupyter-widgets/controls"
     }
    },
    "cd33a979671d4110a1e8d533b5253c7a": {
     "model_module": "@jupyter-widgets/base",
     "model_name": "LayoutModel",
     "state": {
      "_view_name": "LayoutView",
      "grid_template_rows": null,
      "right": null,
      "justify_content": null,
      "_view_module": "@jupyter-widgets/base",
      "overflow": null,
      "_model_module_version": "1.2.0",
      "_view_count": null,
      "flex_flow": null,
      "width": null,
      "min_width": null,
      "border": null,
      "align_items": null,
      "bottom": null,
      "_model_module": "@jupyter-widgets/base",
      "top": null,
      "grid_column": null,
      "overflow_y": null,
      "overflow_x": null,
      "grid_auto_flow": null,
      "grid_area": null,
      "grid_template_columns": null,
      "flex": null,
      "_model_name": "LayoutModel",
      "justify_items": null,
      "grid_row": null,
      "max_height": null,
      "align_content": null,
      "visibility": null,
      "align_self": null,
      "height": null,
      "min_height": null,
      "padding": null,
      "grid_auto_rows": null,
      "grid_gap": null,
      "max_width": null,
      "order": null,
      "_view_module_version": "1.2.0",
      "grid_template_areas": null,
      "object_position": null,
      "object_fit": null,
      "grid_auto_columns": null,
      "margin": null,
      "display": null,
      "left": null
     }
    }
   }
  }
 },
 "cells": [
  {
   "cell_type": "markdown",
   "metadata": {
    "id": "NmPzIghyMXZm"
   },
   "source": [
    "This notebook is to create the model for BERT-QA and BERT-NLI\n",
    "\n",
    "Please ensure that your **runtime type** is set to **TPU**\n",
    "\n",
    "Runtime > change runtime type > TPU"
   ]
  },
  {
   "cell_type": "code",
   "metadata": {
    "id": "nD8YIFEbqwbM",
    "colab": {
     "base_uri": "https://localhost:8080/"
    },
    "executionInfo": {
     "status": "ok",
     "timestamp": 1620449784328,
     "user_tz": -480,
     "elapsed": 21557,
     "user": {
      "displayName": "May Wang",
      "photoUrl": "",
      "userId": "18102931076838470424"
     }
    },
    "outputId": "d94f4702-f75a-4e3a-90c2-32c2e42affe6"
   },
   "source": [
    "from google.colab import drive\n",
    "drive.mount(\"/content/drive\")"
   ],
   "execution_count": null,
   "outputs": [
    {
     "output_type": "stream",
     "text": [
      "Mounted at /content/drive\n"
     ],
     "name": "stdout"
    }
   ]
  },
  {
   "cell_type": "code",
   "metadata": {
    "id": "XZzSKF99uVVr",
    "colab": {
     "base_uri": "https://localhost:8080/"
    },
    "executionInfo": {
     "status": "ok",
     "timestamp": 1620449822538,
     "user_tz": -480,
     "elapsed": 3719,
     "user": {
      "displayName": "May Wang",
      "photoUrl": "",
      "userId": "18102931076838470424"
     }
    },
    "outputId": "48e65b5b-c901-4570-aa80-d0be5800cb5b"
   },
   "source": [
    "!pip install -r /path/to/BERT-ABSA/requirements.txt"
   ],
   "execution_count": null,
   "outputs": [
    {
     "output_type": "stream",
     "text": [
      "Requirement already satisfied: numpy>=1.13.3 in /usr/local/lib/python3.7/dist-packages (from -r /content/drive/MyDrive/Recommender_system/BERT-ABSA/requirements.txt (line 1)) (1.19.5)\n",
      "Requirement already satisfied: torch>=0.4.0 in /usr/local/lib/python3.7/dist-packages (from -r /content/drive/MyDrive/Recommender_system/BERT-ABSA/requirements.txt (line 2)) (1.8.1+cu101)\n",
      "Requirement already satisfied: transformers>=3.0.0 in /usr/local/lib/python3.7/dist-packages (from -r /content/drive/MyDrive/Recommender_system/BERT-ABSA/requirements.txt (line 3)) (4.5.1)\n",
      "Requirement already satisfied: sklearn in /usr/local/lib/python3.7/dist-packages (from -r /content/drive/MyDrive/Recommender_system/BERT-ABSA/requirements.txt (line 4)) (0.0)\n",
      "Requirement already satisfied: typing-extensions in /usr/local/lib/python3.7/dist-packages (from torch>=0.4.0->-r /content/drive/MyDrive/Recommender_system/BERT-ABSA/requirements.txt (line 2)) (3.7.4.3)\n",
      "Requirement already satisfied: requests in /usr/local/lib/python3.7/dist-packages (from transformers>=3.0.0->-r /content/drive/MyDrive/Recommender_system/BERT-ABSA/requirements.txt (line 3)) (2.23.0)\n",
      "Requirement already satisfied: filelock in /usr/local/lib/python3.7/dist-packages (from transformers>=3.0.0->-r /content/drive/MyDrive/Recommender_system/BERT-ABSA/requirements.txt (line 3)) (3.0.12)\n",
      "Requirement already satisfied: importlib-metadata; python_version < \"3.8\" in /usr/local/lib/python3.7/dist-packages (from transformers>=3.0.0->-r /content/drive/MyDrive/Recommender_system/BERT-ABSA/requirements.txt (line 3)) (3.10.1)\n",
      "Requirement already satisfied: tqdm>=4.27 in /usr/local/lib/python3.7/dist-packages (from transformers>=3.0.0->-r /content/drive/MyDrive/Recommender_system/BERT-ABSA/requirements.txt (line 3)) (4.41.1)\n",
      "Requirement already satisfied: tokenizers<0.11,>=0.10.1 in /usr/local/lib/python3.7/dist-packages (from transformers>=3.0.0->-r /content/drive/MyDrive/Recommender_system/BERT-ABSA/requirements.txt (line 3)) (0.10.2)\n",
      "Requirement already satisfied: sacremoses in /usr/local/lib/python3.7/dist-packages (from transformers>=3.0.0->-r /content/drive/MyDrive/Recommender_system/BERT-ABSA/requirements.txt (line 3)) (0.0.45)\n",
      "Requirement already satisfied: packaging in /usr/local/lib/python3.7/dist-packages (from transformers>=3.0.0->-r /content/drive/MyDrive/Recommender_system/BERT-ABSA/requirements.txt (line 3)) (20.9)\n",
      "Requirement already satisfied: regex!=2019.12.17 in /usr/local/lib/python3.7/dist-packages (from transformers>=3.0.0->-r /content/drive/MyDrive/Recommender_system/BERT-ABSA/requirements.txt (line 3)) (2019.12.20)\n",
      "Requirement already satisfied: scikit-learn in /usr/local/lib/python3.7/dist-packages (from sklearn->-r /content/drive/MyDrive/Recommender_system/BERT-ABSA/requirements.txt (line 4)) (0.22.2.post1)\n",
      "Requirement already satisfied: idna<3,>=2.5 in /usr/local/lib/python3.7/dist-packages (from requests->transformers>=3.0.0->-r /content/drive/MyDrive/Recommender_system/BERT-ABSA/requirements.txt (line 3)) (2.10)\n",
      "Requirement already satisfied: certifi>=2017.4.17 in /usr/local/lib/python3.7/dist-packages (from requests->transformers>=3.0.0->-r /content/drive/MyDrive/Recommender_system/BERT-ABSA/requirements.txt (line 3)) (2020.12.5)\n",
      "Requirement already satisfied: chardet<4,>=3.0.2 in /usr/local/lib/python3.7/dist-packages (from requests->transformers>=3.0.0->-r /content/drive/MyDrive/Recommender_system/BERT-ABSA/requirements.txt (line 3)) (3.0.4)\n",
      "Requirement already satisfied: urllib3!=1.25.0,!=1.25.1,<1.26,>=1.21.1 in /usr/local/lib/python3.7/dist-packages (from requests->transformers>=3.0.0->-r /content/drive/MyDrive/Recommender_system/BERT-ABSA/requirements.txt (line 3)) (1.24.3)\n",
      "Requirement already satisfied: zipp>=0.5 in /usr/local/lib/python3.7/dist-packages (from importlib-metadata; python_version < \"3.8\"->transformers>=3.0.0->-r /content/drive/MyDrive/Recommender_system/BERT-ABSA/requirements.txt (line 3)) (3.4.1)\n",
      "Requirement already satisfied: six in /usr/local/lib/python3.7/dist-packages (from sacremoses->transformers>=3.0.0->-r /content/drive/MyDrive/Recommender_system/BERT-ABSA/requirements.txt (line 3)) (1.15.0)\n",
      "Requirement already satisfied: joblib in /usr/local/lib/python3.7/dist-packages (from sacremoses->transformers>=3.0.0->-r /content/drive/MyDrive/Recommender_system/BERT-ABSA/requirements.txt (line 3)) (1.0.1)\n",
      "Requirement already satisfied: click in /usr/local/lib/python3.7/dist-packages (from sacremoses->transformers>=3.0.0->-r /content/drive/MyDrive/Recommender_system/BERT-ABSA/requirements.txt (line 3)) (7.1.2)\n",
      "Requirement already satisfied: pyparsing>=2.0.2 in /usr/local/lib/python3.7/dist-packages (from packaging->transformers>=3.0.0->-r /content/drive/MyDrive/Recommender_system/BERT-ABSA/requirements.txt (line 3)) (2.4.7)\n",
      "Requirement already satisfied: scipy>=0.17.0 in /usr/local/lib/python3.7/dist-packages (from scikit-learn->sklearn->-r /content/drive/MyDrive/Recommender_system/BERT-ABSA/requirements.txt (line 4)) (1.4.1)\n"
     ],
     "name": "stdout"
    }
   ]
  },
  {
   "cell_type": "code",
   "metadata": {
    "id": "jH4m1VxOGwvu",
    "colab": {
     "base_uri": "https://localhost:8080/"
    },
    "executionInfo": {
     "status": "ok",
     "timestamp": 1620449832286,
     "user_tz": -480,
     "elapsed": 5798,
     "user": {
      "displayName": "May Wang",
      "photoUrl": "",
      "userId": "18102931076838470424"
     }
    },
    "outputId": "0a830711-cc67-414a-8756-19558a03449f"
   },
   "source": [
    "!pip install transformers==3"
   ],
   "execution_count": null,
   "outputs": [
    {
     "output_type": "stream",
     "text": [
      "Collecting transformers==3\n",
      "\u001B[?25l  Downloading https://files.pythonhosted.org/packages/9c/35/1c3f6e62d81f5f0daff1384e6d5e6c5758682a8357ebc765ece2b9def62b/transformers-3.0.0-py3-none-any.whl (754kB)\n",
      "\r\u001B[K     |▍                               | 10kB 16.4MB/s eta 0:00:01\r\u001B[K     |▉                               | 20kB 15.6MB/s eta 0:00:01\r\u001B[K     |█▎                              | 30kB 9.0MB/s eta 0:00:01\r\u001B[K     |█▊                              | 40kB 8.5MB/s eta 0:00:01\r\u001B[K     |██▏                             | 51kB 5.2MB/s eta 0:00:01\r\u001B[K     |██▋                             | 61kB 5.8MB/s eta 0:00:01\r\u001B[K     |███                             | 71kB 5.9MB/s eta 0:00:01\r\u001B[K     |███▌                            | 81kB 6.1MB/s eta 0:00:01\r\u001B[K     |████                            | 92kB 6.2MB/s eta 0:00:01\r\u001B[K     |████▍                           | 102kB 5.0MB/s eta 0:00:01\r\u001B[K     |████▊                           | 112kB 5.0MB/s eta 0:00:01\r\u001B[K     |█████▏                          | 122kB 5.0MB/s eta 0:00:01\r\u001B[K     |█████▋                          | 133kB 5.0MB/s eta 0:00:01\r\u001B[K     |██████                          | 143kB 5.0MB/s eta 0:00:01\r\u001B[K     |██████▌                         | 153kB 5.0MB/s eta 0:00:01\r\u001B[K     |███████                         | 163kB 5.0MB/s eta 0:00:01\r\u001B[K     |███████▍                        | 174kB 5.0MB/s eta 0:00:01\r\u001B[K     |███████▉                        | 184kB 5.0MB/s eta 0:00:01\r\u001B[K     |████████▎                       | 194kB 5.0MB/s eta 0:00:01\r\u001B[K     |████████▊                       | 204kB 5.0MB/s eta 0:00:01\r\u001B[K     |█████████▏                      | 215kB 5.0MB/s eta 0:00:01\r\u001B[K     |█████████▌                      | 225kB 5.0MB/s eta 0:00:01\r\u001B[K     |██████████                      | 235kB 5.0MB/s eta 0:00:01\r\u001B[K     |██████████▍                     | 245kB 5.0MB/s eta 0:00:01\r\u001B[K     |██████████▉                     | 256kB 5.0MB/s eta 0:00:01\r\u001B[K     |███████████▎                    | 266kB 5.0MB/s eta 0:00:01\r\u001B[K     |███████████▊                    | 276kB 5.0MB/s eta 0:00:01\r\u001B[K     |████████████▏                   | 286kB 5.0MB/s eta 0:00:01\r\u001B[K     |████████████▋                   | 296kB 5.0MB/s eta 0:00:01\r\u001B[K     |█████████████                   | 307kB 5.0MB/s eta 0:00:01\r\u001B[K     |█████████████▌                  | 317kB 5.0MB/s eta 0:00:01\r\u001B[K     |██████████████                  | 327kB 5.0MB/s eta 0:00:01\r\u001B[K     |██████████████▎                 | 337kB 5.0MB/s eta 0:00:01\r\u001B[K     |██████████████▊                 | 348kB 5.0MB/s eta 0:00:01\r\u001B[K     |███████████████▏                | 358kB 5.0MB/s eta 0:00:01\r\u001B[K     |███████████████▋                | 368kB 5.0MB/s eta 0:00:01\r\u001B[K     |████████████████                | 378kB 5.0MB/s eta 0:00:01\r\u001B[K     |████████████████▌               | 389kB 5.0MB/s eta 0:00:01\r\u001B[K     |█████████████████               | 399kB 5.0MB/s eta 0:00:01\r\u001B[K     |█████████████████▍              | 409kB 5.0MB/s eta 0:00:01\r\u001B[K     |█████████████████▉              | 419kB 5.0MB/s eta 0:00:01\r\u001B[K     |██████████████████▎             | 430kB 5.0MB/s eta 0:00:01\r\u001B[K     |██████████████████▊             | 440kB 5.0MB/s eta 0:00:01\r\u001B[K     |███████████████████             | 450kB 5.0MB/s eta 0:00:01\r\u001B[K     |███████████████████▌            | 460kB 5.0MB/s eta 0:00:01\r\u001B[K     |████████████████████            | 471kB 5.0MB/s eta 0:00:01\r\u001B[K     |████████████████████▍           | 481kB 5.0MB/s eta 0:00:01\r\u001B[K     |████████████████████▉           | 491kB 5.0MB/s eta 0:00:01\r\u001B[K     |█████████████████████▎          | 501kB 5.0MB/s eta 0:00:01\r\u001B[K     |█████████████████████▊          | 512kB 5.0MB/s eta 0:00:01\r\u001B[K     |██████████████████████▏         | 522kB 5.0MB/s eta 0:00:01\r\u001B[K     |██████████████████████▋         | 532kB 5.0MB/s eta 0:00:01\r\u001B[K     |███████████████████████         | 542kB 5.0MB/s eta 0:00:01\r\u001B[K     |███████████████████████▌        | 552kB 5.0MB/s eta 0:00:01\r\u001B[K     |███████████████████████▉        | 563kB 5.0MB/s eta 0:00:01\r\u001B[K     |████████████████████████▎       | 573kB 5.0MB/s eta 0:00:01\r\u001B[K     |████████████████████████▊       | 583kB 5.0MB/s eta 0:00:01\r\u001B[K     |█████████████████████████▏      | 593kB 5.0MB/s eta 0:00:01\r\u001B[K     |█████████████████████████▋      | 604kB 5.0MB/s eta 0:00:01\r\u001B[K     |██████████████████████████      | 614kB 5.0MB/s eta 0:00:01\r\u001B[K     |██████████████████████████▌     | 624kB 5.0MB/s eta 0:00:01\r\u001B[K     |███████████████████████████     | 634kB 5.0MB/s eta 0:00:01\r\u001B[K     |███████████████████████████▍    | 645kB 5.0MB/s eta 0:00:01\r\u001B[K     |███████████████████████████▉    | 655kB 5.0MB/s eta 0:00:01\r\u001B[K     |████████████████████████████▎   | 665kB 5.0MB/s eta 0:00:01\r\u001B[K     |████████████████████████████▋   | 675kB 5.0MB/s eta 0:00:01\r\u001B[K     |█████████████████████████████   | 686kB 5.0MB/s eta 0:00:01\r\u001B[K     |█████████████████████████████▌  | 696kB 5.0MB/s eta 0:00:01\r\u001B[K     |██████████████████████████████  | 706kB 5.0MB/s eta 0:00:01\r\u001B[K     |██████████████████████████████▍ | 716kB 5.0MB/s eta 0:00:01\r\u001B[K     |██████████████████████████████▉ | 727kB 5.0MB/s eta 0:00:01\r\u001B[K     |███████████████████████████████▎| 737kB 5.0MB/s eta 0:00:01\r\u001B[K     |███████████████████████████████▊| 747kB 5.0MB/s eta 0:00:01\r\u001B[K     |████████████████████████████████| 757kB 5.0MB/s \n",
      "\u001B[?25hRequirement already satisfied: packaging in /usr/local/lib/python3.7/dist-packages (from transformers==3) (20.9)\n",
      "Collecting sentencepiece\n",
      "\u001B[?25l  Downloading https://files.pythonhosted.org/packages/f5/99/e0808cb947ba10f575839c43e8fafc9cc44e4a7a2c8f79c60db48220a577/sentencepiece-0.1.95-cp37-cp37m-manylinux2014_x86_64.whl (1.2MB)\n",
      "\u001B[K     |████████████████████████████████| 1.2MB 10.0MB/s \n",
      "\u001B[?25hRequirement already satisfied: sacremoses in /usr/local/lib/python3.7/dist-packages (from transformers==3) (0.0.45)\n",
      "Requirement already satisfied: tqdm>=4.27 in /usr/local/lib/python3.7/dist-packages (from transformers==3) (4.41.1)\n",
      "Collecting tokenizers==0.8.0-rc4\n",
      "\u001B[?25l  Downloading https://files.pythonhosted.org/packages/f7/82/0e82a95bd9db2b32569500cc1bb47aa7c4e0f57aa5e35cceba414096917b/tokenizers-0.8.0rc4-cp37-cp37m-manylinux1_x86_64.whl (3.0MB)\n",
      "\u001B[K     |████████████████████████████████| 3.0MB 22.9MB/s \n",
      "\u001B[?25hRequirement already satisfied: numpy in /usr/local/lib/python3.7/dist-packages (from transformers==3) (1.19.5)\n",
      "Requirement already satisfied: regex!=2019.12.17 in /usr/local/lib/python3.7/dist-packages (from transformers==3) (2019.12.20)\n",
      "Requirement already satisfied: filelock in /usr/local/lib/python3.7/dist-packages (from transformers==3) (3.0.12)\n",
      "Requirement already satisfied: requests in /usr/local/lib/python3.7/dist-packages (from transformers==3) (2.23.0)\n",
      "Requirement already satisfied: pyparsing>=2.0.2 in /usr/local/lib/python3.7/dist-packages (from packaging->transformers==3) (2.4.7)\n",
      "Requirement already satisfied: joblib in /usr/local/lib/python3.7/dist-packages (from sacremoses->transformers==3) (1.0.1)\n",
      "Requirement already satisfied: click in /usr/local/lib/python3.7/dist-packages (from sacremoses->transformers==3) (7.1.2)\n",
      "Requirement already satisfied: six in /usr/local/lib/python3.7/dist-packages (from sacremoses->transformers==3) (1.15.0)\n",
      "Requirement already satisfied: idna<3,>=2.5 in /usr/local/lib/python3.7/dist-packages (from requests->transformers==3) (2.10)\n",
      "Requirement already satisfied: urllib3!=1.25.0,!=1.25.1,<1.26,>=1.21.1 in /usr/local/lib/python3.7/dist-packages (from requests->transformers==3) (1.24.3)\n",
      "Requirement already satisfied: chardet<4,>=3.0.2 in /usr/local/lib/python3.7/dist-packages (from requests->transformers==3) (3.0.4)\n",
      "Requirement already satisfied: certifi>=2017.4.17 in /usr/local/lib/python3.7/dist-packages (from requests->transformers==3) (2020.12.5)\n",
      "Installing collected packages: sentencepiece, tokenizers, transformers\n",
      "  Found existing installation: tokenizers 0.10.2\n",
      "    Uninstalling tokenizers-0.10.2:\n",
      "      Successfully uninstalled tokenizers-0.10.2\n",
      "  Found existing installation: transformers 4.5.1\n",
      "    Uninstalling transformers-4.5.1:\n",
      "      Successfully uninstalled transformers-4.5.1\n",
      "Successfully installed sentencepiece-0.1.95 tokenizers-0.8.0rc4 transformers-3.0.0\n"
     ],
     "name": "stdout"
    }
   ]
  },
  {
   "cell_type": "markdown",
   "metadata": {
    "id": "kZIbj8m8MmX6"
   },
   "source": [
    "# Installations of libraries and declarations of TPU"
   ]
  },
  {
   "cell_type": "code",
   "metadata": {
    "colab": {
     "base_uri": "https://localhost:8080/"
    },
    "id": "NIEQ8hNdhlJr",
    "executionInfo": {
     "status": "ok",
     "timestamp": 1620449840822,
     "user_tz": -480,
     "elapsed": 13697,
     "user": {
      "displayName": "May Wang",
      "photoUrl": "",
      "userId": "18102931076838470424"
     }
    },
    "outputId": "b4114aa9-38cf-406c-cf98-615c9c2d85a4"
   },
   "source": [
    "import os\n",
    "import json\n",
    "import numpy as np\n",
    "\n",
    "!pip install tensorflow_addons\n",
    "import tensorflow as tf\n",
    "# from tensorflow.keras.layers import Dense, Embedding, Input, Flatten, Concatenate\n",
    "from tensorflow.keras.layers import *\n",
    "from tensorflow.keras.models import Model, Sequential\n",
    "from tensorflow.keras.optimizers import SGD, Adam, RMSprop\n",
    "from tensorflow.keras.callbacks import ModelCheckpoint, LearningRateScheduler, ReduceLROnPlateau\n",
    "from tensorflow.keras.utils import to_categorical\n",
    "from tensorflow.python.keras import backend as K\n",
    "from tensorflow.keras.callbacks import EarlyStopping\n",
    "import tensorflow_addons as tfa\n",
    "\n",
    "from sklearn.model_selection import train_test_split\n",
    "\n",
    "from transformers import BertTokenizer, TFBertModel, BertConfig\n",
    "from transformers import *"
   ],
   "execution_count": null,
   "outputs": [
    {
     "output_type": "stream",
     "text": [
      "Collecting tensorflow_addons\n",
      "\u001B[?25l  Downloading https://files.pythonhosted.org/packages/74/e3/56d2fe76f0bb7c88ed9b2a6a557e25e83e252aec08f13de34369cd850a0b/tensorflow_addons-0.12.1-cp37-cp37m-manylinux2010_x86_64.whl (703kB)\n",
      "\r\u001B[K     |▌                               | 10kB 16.6MB/s eta 0:00:01\r\u001B[K     |█                               | 20kB 12.6MB/s eta 0:00:01\r\u001B[K     |█▍                              | 30kB 10.6MB/s eta 0:00:01\r\u001B[K     |█▉                              | 40kB 8.6MB/s eta 0:00:01\r\u001B[K     |██▎                             | 51kB 5.0MB/s eta 0:00:01\r\u001B[K     |██▉                             | 61kB 5.5MB/s eta 0:00:01\r\u001B[K     |███▎                            | 71kB 5.7MB/s eta 0:00:01\r\u001B[K     |███▊                            | 81kB 6.1MB/s eta 0:00:01\r\u001B[K     |████▏                           | 92kB 5.8MB/s eta 0:00:01\r\u001B[K     |████▋                           | 102kB 4.9MB/s eta 0:00:01\r\u001B[K     |█████▏                          | 112kB 4.9MB/s eta 0:00:01\r\u001B[K     |█████▋                          | 122kB 4.9MB/s eta 0:00:01\r\u001B[K     |██████                          | 133kB 4.9MB/s eta 0:00:01\r\u001B[K     |██████▌                         | 143kB 4.9MB/s eta 0:00:01\r\u001B[K     |███████                         | 153kB 4.9MB/s eta 0:00:01\r\u001B[K     |███████▌                        | 163kB 4.9MB/s eta 0:00:01\r\u001B[K     |████████                        | 174kB 4.9MB/s eta 0:00:01\r\u001B[K     |████████▍                       | 184kB 4.9MB/s eta 0:00:01\r\u001B[K     |████████▉                       | 194kB 4.9MB/s eta 0:00:01\r\u001B[K     |█████████▎                      | 204kB 4.9MB/s eta 0:00:01\r\u001B[K     |█████████▉                      | 215kB 4.9MB/s eta 0:00:01\r\u001B[K     |██████████▎                     | 225kB 4.9MB/s eta 0:00:01\r\u001B[K     |██████████▊                     | 235kB 4.9MB/s eta 0:00:01\r\u001B[K     |███████████▏                    | 245kB 4.9MB/s eta 0:00:01\r\u001B[K     |███████████▋                    | 256kB 4.9MB/s eta 0:00:01\r\u001B[K     |████████████▏                   | 266kB 4.9MB/s eta 0:00:01\r\u001B[K     |████████████▋                   | 276kB 4.9MB/s eta 0:00:01\r\u001B[K     |█████████████                   | 286kB 4.9MB/s eta 0:00:01\r\u001B[K     |█████████████▌                  | 296kB 4.9MB/s eta 0:00:01\r\u001B[K     |██████████████                  | 307kB 4.9MB/s eta 0:00:01\r\u001B[K     |██████████████▍                 | 317kB 4.9MB/s eta 0:00:01\r\u001B[K     |███████████████                 | 327kB 4.9MB/s eta 0:00:01\r\u001B[K     |███████████████▍                | 337kB 4.9MB/s eta 0:00:01\r\u001B[K     |███████████████▉                | 348kB 4.9MB/s eta 0:00:01\r\u001B[K     |████████████████▎               | 358kB 4.9MB/s eta 0:00:01\r\u001B[K     |████████████████▊               | 368kB 4.9MB/s eta 0:00:01\r\u001B[K     |█████████████████▎              | 378kB 4.9MB/s eta 0:00:01\r\u001B[K     |█████████████████▊              | 389kB 4.9MB/s eta 0:00:01\r\u001B[K     |██████████████████▏             | 399kB 4.9MB/s eta 0:00:01\r\u001B[K     |██████████████████▋             | 409kB 4.9MB/s eta 0:00:01\r\u001B[K     |███████████████████             | 419kB 4.9MB/s eta 0:00:01\r\u001B[K     |███████████████████▋            | 430kB 4.9MB/s eta 0:00:01\r\u001B[K     |████████████████████            | 440kB 4.9MB/s eta 0:00:01\r\u001B[K     |████████████████████▌           | 450kB 4.9MB/s eta 0:00:01\r\u001B[K     |█████████████████████           | 460kB 4.9MB/s eta 0:00:01\r\u001B[K     |█████████████████████▍          | 471kB 4.9MB/s eta 0:00:01\r\u001B[K     |██████████████████████          | 481kB 4.9MB/s eta 0:00:01\r\u001B[K     |██████████████████████▍         | 491kB 4.9MB/s eta 0:00:01\r\u001B[K     |██████████████████████▉         | 501kB 4.9MB/s eta 0:00:01\r\u001B[K     |███████████████████████▎        | 512kB 4.9MB/s eta 0:00:01\r\u001B[K     |███████████████████████▊        | 522kB 4.9MB/s eta 0:00:01\r\u001B[K     |████████████████████████▎       | 532kB 4.9MB/s eta 0:00:01\r\u001B[K     |████████████████████████▊       | 542kB 4.9MB/s eta 0:00:01\r\u001B[K     |█████████████████████████▏      | 552kB 4.9MB/s eta 0:00:01\r\u001B[K     |█████████████████████████▋      | 563kB 4.9MB/s eta 0:00:01\r\u001B[K     |██████████████████████████      | 573kB 4.9MB/s eta 0:00:01\r\u001B[K     |██████████████████████████▋     | 583kB 4.9MB/s eta 0:00:01\r\u001B[K     |███████████████████████████     | 593kB 4.9MB/s eta 0:00:01\r\u001B[K     |███████████████████████████▌    | 604kB 4.9MB/s eta 0:00:01\r\u001B[K     |████████████████████████████    | 614kB 4.9MB/s eta 0:00:01\r\u001B[K     |████████████████████████████▍   | 624kB 4.9MB/s eta 0:00:01\r\u001B[K     |████████████████████████████▉   | 634kB 4.9MB/s eta 0:00:01\r\u001B[K     |█████████████████████████████▍  | 645kB 4.9MB/s eta 0:00:01\r\u001B[K     |█████████████████████████████▉  | 655kB 4.9MB/s eta 0:00:01\r\u001B[K     |██████████████████████████████▎ | 665kB 4.9MB/s eta 0:00:01\r\u001B[K     |██████████████████████████████▊ | 675kB 4.9MB/s eta 0:00:01\r\u001B[K     |███████████████████████████████▏| 686kB 4.9MB/s eta 0:00:01\r\u001B[K     |███████████████████████████████▊| 696kB 4.9MB/s eta 0:00:01\r\u001B[K     |████████████████████████████████| 706kB 4.9MB/s \n",
      "\u001B[?25hRequirement already satisfied: typeguard>=2.7 in /usr/local/lib/python3.7/dist-packages (from tensorflow_addons) (2.7.1)\n",
      "Installing collected packages: tensorflow-addons\n",
      "Successfully installed tensorflow-addons-0.12.1\n"
     ],
     "name": "stdout"
    }
   ]
  },
  {
   "cell_type": "code",
   "metadata": {
    "colab": {
     "base_uri": "https://localhost:8080/"
    },
    "id": "GhnIKel2huJN",
    "executionInfo": {
     "status": "ok",
     "timestamp": 1620449849480,
     "user_tz": -480,
     "elapsed": 20564,
     "user": {
      "displayName": "May Wang",
      "photoUrl": "",
      "userId": "18102931076838470424"
     }
    },
    "outputId": "3812c4e3-6000-417a-8fbd-a731d70ac087"
   },
   "source": [
    "try:\n",
    "    # TPU detection. No parameters necessary if TPU_NAME environment variable is\n",
    "    # set: this is always the case on Kaggle.\n",
    "    tpu = tf.distribute.cluster_resolver.TPUClusterResolver()\n",
    "    print('Running on TPU ', tpu.master())\n",
    "except ValueError:\n",
    "    tpu = None\n",
    "\n",
    "if tpu:\n",
    "    tf.config.experimental_connect_to_cluster(tpu)\n",
    "    tf.tpu.experimental.initialize_tpu_system(tpu)\n",
    "    strategy = tf.distribute.experimental.TPUStrategy(tpu)\n",
    "else:\n",
    "    # Default distribution strategy in Tensorflow. Works on CPU and single GPU.\n",
    "    strategy = tf.distribute.get_strategy()\n",
    "\n",
    "print(\"REPLICAS: \", strategy.num_replicas_in_sync)"
   ],
   "execution_count": null,
   "outputs": [
    {
     "output_type": "stream",
     "text": [
      "INFO:absl:Entering into master device scope: /job:worker/replica:0/task:0/device:CPU:0\n"
     ],
     "name": "stderr"
    },
    {
     "output_type": "stream",
     "text": [
      "Running on TPU  grpc://10.79.102.242:8470\n",
      "INFO:tensorflow:Initializing the TPU system: grpc://10.79.102.242:8470\n"
     ],
     "name": "stdout"
    },
    {
     "output_type": "stream",
     "text": [
      "INFO:tensorflow:Initializing the TPU system: grpc://10.79.102.242:8470\n"
     ],
     "name": "stderr"
    },
    {
     "output_type": "stream",
     "text": [
      "INFO:tensorflow:Clearing out eager caches\n"
     ],
     "name": "stdout"
    },
    {
     "output_type": "stream",
     "text": [
      "INFO:tensorflow:Clearing out eager caches\n"
     ],
     "name": "stderr"
    },
    {
     "output_type": "stream",
     "text": [
      "INFO:tensorflow:Finished initializing TPU system.\n"
     ],
     "name": "stdout"
    },
    {
     "output_type": "stream",
     "text": [
      "INFO:tensorflow:Finished initializing TPU system.\n",
      "WARNING:absl:`tf.distribute.experimental.TPUStrategy` is deprecated, please use  the non experimental symbol `tf.distribute.TPUStrategy` instead.\n"
     ],
     "name": "stderr"
    },
    {
     "output_type": "stream",
     "text": [
      "INFO:tensorflow:Found TPU system:\n"
     ],
     "name": "stdout"
    },
    {
     "output_type": "stream",
     "text": [
      "INFO:tensorflow:Found TPU system:\n"
     ],
     "name": "stderr"
    },
    {
     "output_type": "stream",
     "text": [
      "INFO:tensorflow:*** Num TPU Cores: 8\n"
     ],
     "name": "stdout"
    },
    {
     "output_type": "stream",
     "text": [
      "INFO:tensorflow:*** Num TPU Cores: 8\n"
     ],
     "name": "stderr"
    },
    {
     "output_type": "stream",
     "text": [
      "INFO:tensorflow:*** Num TPU Workers: 1\n"
     ],
     "name": "stdout"
    },
    {
     "output_type": "stream",
     "text": [
      "INFO:tensorflow:*** Num TPU Workers: 1\n"
     ],
     "name": "stderr"
    },
    {
     "output_type": "stream",
     "text": [
      "INFO:tensorflow:*** Num TPU Cores Per Worker: 8\n"
     ],
     "name": "stdout"
    },
    {
     "output_type": "stream",
     "text": [
      "INFO:tensorflow:*** Num TPU Cores Per Worker: 8\n"
     ],
     "name": "stderr"
    },
    {
     "output_type": "stream",
     "text": [
      "INFO:tensorflow:*** Available Device: _DeviceAttributes(/job:localhost/replica:0/task:0/device:CPU:0, CPU, 0, 0)\n"
     ],
     "name": "stdout"
    },
    {
     "output_type": "stream",
     "text": [
      "INFO:tensorflow:*** Available Device: _DeviceAttributes(/job:localhost/replica:0/task:0/device:CPU:0, CPU, 0, 0)\n"
     ],
     "name": "stderr"
    },
    {
     "output_type": "stream",
     "text": [
      "INFO:tensorflow:*** Available Device: _DeviceAttributes(/job:worker/replica:0/task:0/device:CPU:0, CPU, 0, 0)\n"
     ],
     "name": "stdout"
    },
    {
     "output_type": "stream",
     "text": [
      "INFO:tensorflow:*** Available Device: _DeviceAttributes(/job:worker/replica:0/task:0/device:CPU:0, CPU, 0, 0)\n"
     ],
     "name": "stderr"
    },
    {
     "output_type": "stream",
     "text": [
      "INFO:tensorflow:*** Available Device: _DeviceAttributes(/job:worker/replica:0/task:0/device:TPU:0, TPU, 0, 0)\n"
     ],
     "name": "stdout"
    },
    {
     "output_type": "stream",
     "text": [
      "INFO:tensorflow:*** Available Device: _DeviceAttributes(/job:worker/replica:0/task:0/device:TPU:0, TPU, 0, 0)\n"
     ],
     "name": "stderr"
    },
    {
     "output_type": "stream",
     "text": [
      "INFO:tensorflow:*** Available Device: _DeviceAttributes(/job:worker/replica:0/task:0/device:TPU:1, TPU, 0, 0)\n"
     ],
     "name": "stdout"
    },
    {
     "output_type": "stream",
     "text": [
      "INFO:tensorflow:*** Available Device: _DeviceAttributes(/job:worker/replica:0/task:0/device:TPU:1, TPU, 0, 0)\n"
     ],
     "name": "stderr"
    },
    {
     "output_type": "stream",
     "text": [
      "INFO:tensorflow:*** Available Device: _DeviceAttributes(/job:worker/replica:0/task:0/device:TPU:2, TPU, 0, 0)\n"
     ],
     "name": "stdout"
    },
    {
     "output_type": "stream",
     "text": [
      "INFO:tensorflow:*** Available Device: _DeviceAttributes(/job:worker/replica:0/task:0/device:TPU:2, TPU, 0, 0)\n"
     ],
     "name": "stderr"
    },
    {
     "output_type": "stream",
     "text": [
      "INFO:tensorflow:*** Available Device: _DeviceAttributes(/job:worker/replica:0/task:0/device:TPU:3, TPU, 0, 0)\n"
     ],
     "name": "stdout"
    },
    {
     "output_type": "stream",
     "text": [
      "INFO:tensorflow:*** Available Device: _DeviceAttributes(/job:worker/replica:0/task:0/device:TPU:3, TPU, 0, 0)\n"
     ],
     "name": "stderr"
    },
    {
     "output_type": "stream",
     "text": [
      "INFO:tensorflow:*** Available Device: _DeviceAttributes(/job:worker/replica:0/task:0/device:TPU:4, TPU, 0, 0)\n"
     ],
     "name": "stdout"
    },
    {
     "output_type": "stream",
     "text": [
      "INFO:tensorflow:*** Available Device: _DeviceAttributes(/job:worker/replica:0/task:0/device:TPU:4, TPU, 0, 0)\n"
     ],
     "name": "stderr"
    },
    {
     "output_type": "stream",
     "text": [
      "INFO:tensorflow:*** Available Device: _DeviceAttributes(/job:worker/replica:0/task:0/device:TPU:5, TPU, 0, 0)\n"
     ],
     "name": "stdout"
    },
    {
     "output_type": "stream",
     "text": [
      "INFO:tensorflow:*** Available Device: _DeviceAttributes(/job:worker/replica:0/task:0/device:TPU:5, TPU, 0, 0)\n"
     ],
     "name": "stderr"
    },
    {
     "output_type": "stream",
     "text": [
      "INFO:tensorflow:*** Available Device: _DeviceAttributes(/job:worker/replica:0/task:0/device:TPU:6, TPU, 0, 0)\n"
     ],
     "name": "stdout"
    },
    {
     "output_type": "stream",
     "text": [
      "INFO:tensorflow:*** Available Device: _DeviceAttributes(/job:worker/replica:0/task:0/device:TPU:6, TPU, 0, 0)\n"
     ],
     "name": "stderr"
    },
    {
     "output_type": "stream",
     "text": [
      "INFO:tensorflow:*** Available Device: _DeviceAttributes(/job:worker/replica:0/task:0/device:TPU:7, TPU, 0, 0)\n"
     ],
     "name": "stdout"
    },
    {
     "output_type": "stream",
     "text": [
      "INFO:tensorflow:*** Available Device: _DeviceAttributes(/job:worker/replica:0/task:0/device:TPU:7, TPU, 0, 0)\n"
     ],
     "name": "stderr"
    },
    {
     "output_type": "stream",
     "text": [
      "INFO:tensorflow:*** Available Device: _DeviceAttributes(/job:worker/replica:0/task:0/device:TPU_SYSTEM:0, TPU_SYSTEM, 0, 0)\n"
     ],
     "name": "stdout"
    },
    {
     "output_type": "stream",
     "text": [
      "INFO:tensorflow:*** Available Device: _DeviceAttributes(/job:worker/replica:0/task:0/device:TPU_SYSTEM:0, TPU_SYSTEM, 0, 0)\n"
     ],
     "name": "stderr"
    },
    {
     "output_type": "stream",
     "text": [
      "INFO:tensorflow:*** Available Device: _DeviceAttributes(/job:worker/replica:0/task:0/device:XLA_CPU:0, XLA_CPU, 0, 0)\n"
     ],
     "name": "stdout"
    },
    {
     "output_type": "stream",
     "text": [
      "INFO:tensorflow:*** Available Device: _DeviceAttributes(/job:worker/replica:0/task:0/device:XLA_CPU:0, XLA_CPU, 0, 0)\n"
     ],
     "name": "stderr"
    },
    {
     "output_type": "stream",
     "text": [
      "REPLICAS:  8\n"
     ],
     "name": "stdout"
    }
   ]
  },
  {
   "cell_type": "markdown",
   "metadata": {
    "id": "u4JlnFSIMrlH"
   },
   "source": [
    "# Data Preprocessing"
   ]
  },
  {
   "cell_type": "markdown",
   "metadata": {
    "id": "O3qieE-oMx7y"
   },
   "source": [
    "This is to handle the text processing for different tasks"
   ]
  },
  {
   "cell_type": "code",
   "metadata": {
    "id": "fFljRNy_hihk"
   },
   "source": [
    "def pad_and_truncate(sequence, maxlen, dtype='int64', padding='post', truncating='post', value=0):\n",
    "    x = (np.ones(maxlen) * value).astype(dtype)\n",
    "    if truncating == 'pre':\n",
    "        trunc = sequence[-maxlen:]\n",
    "    else:\n",
    "        trunc = sequence[:maxlen]\n",
    "    trunc = np.asarray(trunc, dtype=dtype)\n",
    "    if padding == 'post':\n",
    "        x[:len(trunc)] = trunc\n",
    "    else:\n",
    "        x[-len(trunc):] = trunc\n",
    "    return x\n",
    "\n",
    "def get_dataset(data_path, tokenizer):\n",
    "\n",
    "    with open(data_path) as f:\n",
    "        json_data = json.load(f)\n",
    "\n",
    "    bqa, bqam, bqaid, bnli, bnlim, bnliid, p = [], [], [], [], [], [], []\n",
    "\n",
    "    # {'neutral': 0, 'positive': 1, 'negative': -1}\n",
    "    polarity_dict = json_data[\"polarity_library\"]\n",
    "    # {'service': 1, 'food': 2, 'anecdotes/miscellaneous': 3, 'price': 4, 'ambience': 5}\n",
    "    # aspect_dict = json_data[\"aspect_library\"]\n",
    "\n",
    "    # {\n",
    "    # 'text': 'But the staff was so horrible to us.',\n",
    "    # 'categories': [{'category': 'service', 'polarity': 'negative', 'polarity_id': -1, 'category_id': 1}],\n",
    "    # 'terms': [{'term': 'staff', 'polarity': 'negative', 'polarity_id': -1}]\n",
    "    # }\n",
    "    for sentence in json_data[\"data\"]:\n",
    "\n",
    "        text = sentence['text'].lower()\n",
    "        cat_arr = sentence[\"categories\"]\n",
    "\n",
    "        text_indices = tokenizer.text_to_sequence(text)\n",
    "        text_indices = pad_and_truncate(text_indices, tokenizer.max_seq_len)\n",
    "        text_len = np.sum(text_indices != 0)\n",
    "\n",
    "        for cat in cat_arr:\n",
    "            polarity = cat['polarity_id']\n",
    "            polarity = int(polarity) + 1\n",
    "\n",
    "            # Bert text----------------------------------------------------------------------------------------------\n",
    "\n",
    "            #bert QA_M\n",
    "            text_QA_M = \"what do you think of the \" + cat['category'] + \" of it?\"\n",
    "            bert_QA_M = tokenizer.text_to_sequence(text + ' [SEP] ' + text_QA_M)\n",
    "            bert_QA_M = pad_and_truncate(bert_QA_M, tokenizer.max_seq_len)\n",
    "\n",
    "            #bert NLI_M\n",
    "            bert_NLI_M = tokenizer.text_to_sequence(text + ' [SEP] ' + cat['category'])\n",
    "            bert_NLI_M = pad_and_truncate(bert_NLI_M, tokenizer.max_seq_len)\n",
    "\n",
    "            # token_type_ids----------------------------------------------------------------------------------------------\n",
    "            # Segment token indices to indicate first and second portions of the inputs. Indices are selected in [0, 1]:\n",
    "\n",
    "            #bert_QA_M\n",
    "            bert_QA_M_len = tokenizer.text_to_sequence(text_QA_M, add_special_tokens=True)\n",
    "            bert_QA_M_len = pad_and_truncate(bert_QA_M_len, tokenizer.max_seq_len)\n",
    "            bert_QA_M_len = np.sum(bert_QA_M_len != 0)\n",
    "            bert_QA_M_token = [0] * (text_len-1) + [1] * bert_QA_M_len # already included + 2 tokens\n",
    "            bert_QA_M_token = pad_and_truncate(bert_QA_M_token, tokenizer.max_seq_len)\n",
    "\n",
    "            #bert_NLI_M\n",
    "            bert_NLI_M_len = tokenizer.text_to_sequence(cat['category'], add_special_tokens=True)\n",
    "            bert_NLI_M_len = pad_and_truncate(bert_NLI_M_len, tokenizer.max_seq_len)\n",
    "            bert_NLI_M_len = np.sum(bert_NLI_M_len != 0)\n",
    "            bert_NLI_M_token = [0] * (text_len-1) + [1] * bert_NLI_M_len # already included + 2 tokens\n",
    "            bert_NLI_M_token = pad_and_truncate(bert_NLI_M_token, tokenizer.max_seq_len)\n",
    "\n",
    "            # attention_mask----------------------------------------------------------------------------------------------\n",
    "\n",
    "            #bert_QA_M\n",
    "            bert_QA_M_attention_mask = [1] * (text_len+bert_QA_M_len-1) + [0]\n",
    "            bert_QA_M_attention_mask = pad_and_truncate(bert_QA_M_attention_mask, tokenizer.max_seq_len)\n",
    "\n",
    "            #bert_NLI_M\n",
    "            bert_NLI_M_attention_mask = [1] * (text_len+bert_NLI_M_len-1) + [0]\n",
    "            bert_NLI_M_attention_mask = pad_and_truncate(bert_NLI_M_attention_mask, tokenizer.max_seq_len)\n",
    "\n",
    "            bqa.append(bert_QA_M)\n",
    "            bqam.append(bert_QA_M_attention_mask)\n",
    "            bqaid.append(bert_QA_M_token)\n",
    "            bnli.append(bert_NLI_M)\n",
    "            bnlim.append(bert_NLI_M_attention_mask)\n",
    "            bnliid.append(bert_NLI_M_token)\n",
    "            p.append(polarity)\n",
    "\n",
    "    return {\n",
    "            'bert_QA_M': bqa,\n",
    "            'bert_QA_M_attention_mask': bqam,\n",
    "            'bert_QA_M_token_id': bqaid,\n",
    "            'bert_NLI_M': bnli,\n",
    "            'bert_NLI_M_attention_mask': bnlim,\n",
    "            'bert_NLI_M_token_id': bnliid,\n",
    "            'polarity': p\n",
    "        }\n"
   ],
   "execution_count": null,
   "outputs": []
  },
  {
   "cell_type": "code",
   "metadata": {
    "id": "TiznbJd7je5B"
   },
   "source": [
    "class Tokeniser:\n",
    "  def __init__(self, max_seq_len):\n",
    "      BERT_PRETRAINED_NAME = 'bert-base-uncased'\n",
    "      self.tokeniser = BertTokenizer.from_pretrained(BERT_PRETRAINED_NAME)\n",
    "      self.max_seq_len = max_seq_len\n",
    "\n",
    "  def text_to_sequence(self, text, add_special_tokens=True):\n",
    "      sequence = self.tokeniser.encode(text, add_special_tokens=add_special_tokens) # max_length=self.max_seq_len, truncation=truncate, padding=padding\n",
    "      if len(sequence) == 0:\n",
    "          sequence = [0]\n",
    "      return sequence"
   ],
   "execution_count": null,
   "outputs": []
  },
  {
   "cell_type": "markdown",
   "metadata": {
    "id": "nNXxMX77_Mgc"
   },
   "source": [
    "you need to select your task your task for the classification \n",
    "\n",
    "bert-qa/ bert-nli"
   ]
  },
  {
   "cell_type": "code",
   "metadata": {
    "id": "MVxoNKD8_KNw"
   },
   "source": [
    "TASK_NAME = 'bert-qa'"
   ],
   "execution_count": null,
   "outputs": []
  },
  {
   "cell_type": "code",
   "metadata": {
    "id": "RmO6Ht_eiS_M"
   },
   "source": [
    "BERT_PRETRAINED_NAME = 'bert-base-uncased'\n",
    "MAX_SEQ_LEN = 128\n",
    "\n",
    "TRAIN_PATH='/path/to/BERT-ABSA/datasets/json_without_conflict/Restaurants_Train.json'\n",
    "TEST_PATH='/path/to/BERT-ABSA/datasets/json_without_conflict/Restaurants_Test.json'\n",
    "BERT_PRETRAINED_NAME = 'bert-base-uncased'\n"
   ],
   "execution_count": null,
   "outputs": []
  },
  {
   "cell_type": "code",
   "metadata": {
    "id": "nL8XIbU5tOzD",
    "colab": {
     "base_uri": "https://localhost:8080/",
     "height": 66,
     "referenced_widgets": [
      "0a15f22e3fe642389c7c626dc15ee4f1",
      "b031103005f346e59e6be3206bdfd6ae",
      "9d4fe979913a4b389519529964a53aa7",
      "332695db33434dbca88b329d19ebab0f",
      "eb9ba55717f84e57b6a73bd8f2f36f9c",
      "c76097c6e4b643609eface0bcf2caa4d",
      "1f6dd43931794d6ba161fcfea66d0da8",
      "c55130b754414d75826a3eb533ccf4c7"
     ]
    },
    "executionInfo": {
     "status": "ok",
     "timestamp": 1620449885901,
     "user_tz": -480,
     "elapsed": 39095,
     "user": {
      "displayName": "May Wang",
      "photoUrl": "",
      "userId": "18102931076838470424"
     }
    },
    "outputId": "d76cae3b-31af-4736-f54e-6b17d88e0f53"
   },
   "source": [
    "tokenizer = Tokeniser(MAX_SEQ_LEN)\n",
    "# pre_split_train = get_dataset(TRAIN_PATH, tokenizer)\n",
    "train = get_dataset(TRAIN_PATH, tokenizer)\n",
    "test = get_dataset(TEST_PATH, tokenizer)"
   ],
   "execution_count": null,
   "outputs": [
    {
     "output_type": "display_data",
     "data": {
      "application/vnd.jupyter.widget-view+json": {
       "model_id": "0a15f22e3fe642389c7c626dc15ee4f1",
       "version_minor": 0,
       "version_major": 2
      },
      "text/plain": [
       "HBox(children=(FloatProgress(value=0.0, description='Downloading', max=231508.0, style=ProgressStyle(descripti…"
      ]
     },
     "metadata": {
      "tags": []
     }
    },
    {
     "output_type": "stream",
     "text": [
      "\n"
     ],
     "name": "stdout"
    }
   ]
  },
  {
   "cell_type": "markdown",
   "metadata": {
    "id": "ay5gXdVOM_TT"
   },
   "source": [
    "Declaration of weight classes"
   ]
  },
  {
   "cell_type": "code",
   "metadata": {
    "colab": {
     "base_uri": "https://localhost:8080/"
    },
    "id": "6CKlOh99tJq2",
    "executionInfo": {
     "status": "ok",
     "timestamp": 1620449885903,
     "user_tz": -480,
     "elapsed": 37074,
     "user": {
      "displayName": "May Wang",
      "photoUrl": "",
      "userId": "18102931076838470424"
     }
    },
    "outputId": "2c600399-e10c-4665-bc25-33f966efc9b8"
   },
   "source": [
    "from sklearn.utils import compute_class_weight\n",
    "\n",
    "class_weights = compute_class_weight('balanced', np.unique(train['polarity']), train['polarity'])\n",
    "d_class_weights = dict(enumerate(class_weights))\n",
    "print(d_class_weights)"
   ],
   "execution_count": null,
   "outputs": [
    {
     "output_type": "stream",
     "text": [
      "{0: 4.535756853396901, 1: 7.595808383233533, 2: 1.747245179063361, 3: 0.32514524948735474}\n"
     ],
     "name": "stdout"
    }
   ]
  },
  {
   "cell_type": "code",
   "metadata": {
    "id": "HnVgPW7gcgX_"
   },
   "source": [
    "NUM_CLASSES = len(np.unique(train['polarity']))\n",
    "EPOCH = 50\n",
    "LR = 2e-5\n",
    "BATCH_SIZE = 24 * strategy.num_replicas_in_sync\n",
    "steps_per_epoch = len(train['polarity']) // BATCH_SIZE\n",
    "validation_steps= len(test['polarity']) // BATCH_SIZE\n",
    "DROPOUT_VALUE = 0.4"
   ],
   "execution_count": null,
   "outputs": []
  },
  {
   "cell_type": "markdown",
   "metadata": {
    "id": "UQr61YjYNa6K"
   },
   "source": [
    "# Model"
   ]
  },
  {
   "cell_type": "markdown",
   "metadata": {
    "id": "ZoqOu1JkYv0M"
   },
   "source": [
    "building the model using TFBertForSequenceClassification"
   ]
  },
  {
   "cell_type": "code",
   "metadata": {
    "colab": {
     "base_uri": "https://localhost:8080/",
     "height": 220,
     "referenced_widgets": [
      "f1c25d0ea8ad476794b7d9350f4f27d1",
      "a126b3205f884e61a8bbd541557efbbc",
      "eacb548b83374310a3691acc6d6a0e2e",
      "59002154b90546738f5473252832b039",
      "5b8e482c86294a9facd37a953a1b9355",
      "9320f351a6204b78a1b108ebe7878c6b",
      "da65a9acc0d64618984c7cceb721bf26",
      "5dde166010ba459f89198697ca873fd1",
      "23933a26d692422296c64c4d4e64f1f7",
      "8562641f287846c2b7aa631e11ab9b53",
      "a0e3de9ddf524a3a8f002ee11672ee76",
      "e0cd4537f07a4c8b87c7650f8632b7dc",
      "42a15c7687af4908a949aab5f424a76f",
      "b1aae5cf0cd149d8b444b1b04cacfd32",
      "e0c73bb99ad642c290317e5cf4368eef",
      "cd33a979671d4110a1e8d533b5253c7a"
     ]
    },
    "id": "z_8ontN9rnCk",
    "executionInfo": {
     "status": "ok",
     "timestamp": 1620449934457,
     "user_tz": -480,
     "elapsed": 84174,
     "user": {
      "displayName": "May Wang",
      "photoUrl": "",
      "userId": "18102931076838470424"
     }
    },
    "outputId": "5c9e2891-fb0a-403f-b315-e87a0b716efc"
   },
   "source": [
    "with strategy.scope():\n",
    "  model = TFBertForSequenceClassification.from_pretrained(BERT_PRETRAINED_NAME, hidden_dropout_prob=DROPOUT_VALUE, num_labels=NUM_CLASSES)"
   ],
   "execution_count": null,
   "outputs": [
    {
     "output_type": "display_data",
     "data": {
      "application/vnd.jupyter.widget-view+json": {
       "model_id": "f1c25d0ea8ad476794b7d9350f4f27d1",
       "version_minor": 0,
       "version_major": 2
      },
      "text/plain": [
       "HBox(children=(FloatProgress(value=0.0, description='Downloading', max=433.0, style=ProgressStyle(description_…"
      ]
     },
     "metadata": {
      "tags": []
     }
    },
    {
     "output_type": "stream",
     "text": [
      "\n"
     ],
     "name": "stdout"
    },
    {
     "output_type": "display_data",
     "data": {
      "application/vnd.jupyter.widget-view+json": {
       "model_id": "23933a26d692422296c64c4d4e64f1f7",
       "version_minor": 0,
       "version_major": 2
      },
      "text/plain": [
       "HBox(children=(FloatProgress(value=0.0, description='Downloading', max=536063208.0, style=ProgressStyle(descri…"
      ]
     },
     "metadata": {
      "tags": []
     }
    },
    {
     "output_type": "stream",
     "text": [
      "\n"
     ],
     "name": "stdout"
    },
    {
     "output_type": "stream",
     "text": [
      "WARNING:transformers.modeling_tf_utils:Some weights of the model checkpoint at bert-base-uncased were not used when initializing TFBertForSequenceClassification: ['nsp___cls', 'mlm___cls']\n",
      "- This IS expected if you are initializing TFBertForSequenceClassification from the checkpoint of a model trained on another task or with another architecture (e.g. initializing a BertForSequenceClassification model from a BertForPretraining model).\n",
      "- This IS NOT expected if you are initializing TFBertForSequenceClassification from the checkpoint of a model that you expect to be exactly identical (initializing a BertForSequenceClassification model from a BertForSequenceClassification model).\n",
      "WARNING:transformers.modeling_tf_utils:Some weights of TFBertForSequenceClassification were not initialized from the model checkpoint at bert-base-uncased and are newly initialized: ['classifier', 'dropout_37']\n",
      "You should probably TRAIN this model on a down-stream task to be able to use it for predictions and inference.\n"
     ],
     "name": "stderr"
    }
   ]
  },
  {
   "cell_type": "code",
   "metadata": {
    "colab": {
     "base_uri": "https://localhost:8080/"
    },
    "id": "vB3W51Lb6CI5",
    "executionInfo": {
     "status": "ok",
     "timestamp": 1620449934872,
     "user_tz": -480,
     "elapsed": 82004,
     "user": {
      "displayName": "May Wang",
      "photoUrl": "",
      "userId": "18102931076838470424"
     }
    },
    "outputId": "7f06ae21-6c54-416a-c78b-8530583702af"
   },
   "source": [
    "print('\\nBert Model',model.summary())"
   ],
   "execution_count": null,
   "outputs": [
    {
     "output_type": "stream",
     "text": [
      "Model: \"tf_bert_for_sequence_classification\"\n",
      "_________________________________________________________________\n",
      "Layer (type)                 Output Shape              Param #   \n",
      "=================================================================\n",
      "bert (TFBertMainLayer)       multiple                  109482240 \n",
      "_________________________________________________________________\n",
      "dropout_37 (Dropout)         multiple                  0         \n",
      "_________________________________________________________________\n",
      "classifier (Dense)           multiple                  3076      \n",
      "=================================================================\n",
      "Total params: 109,485,316\n",
      "Trainable params: 109,485,316\n",
      "Non-trainable params: 0\n",
      "_________________________________________________________________\n",
      "\n",
      "Bert Model None\n"
     ],
     "name": "stdout"
    }
   ]
  },
  {
   "cell_type": "markdown",
   "metadata": {
    "id": "iJ1Ioj-JZRVb"
   },
   "source": [
    "Training the model"
   ]
  },
  {
   "cell_type": "code",
   "metadata": {
    "colab": {
     "base_uri": "https://localhost:8080/"
    },
    "id": "idPgigIkWczf",
    "executionInfo": {
     "status": "ok",
     "timestamp": 1617296876329,
     "user_tz": -480,
     "elapsed": 830278,
     "user": {
      "displayName": "sean poh",
      "photoUrl": "",
      "userId": "09943683080325807772"
     }
    },
    "outputId": "a23b538f-0bc1-488a-f9fb-38d5920b907f"
   },
   "source": [
    "import matplotlib.pyplot as plt\n",
    "from sklearn import metrics\n",
    "\n",
    "input_colses = {\n",
    "        \"bert-qa\": [\"bert_QA_M\", \"bert_QA_M_attention_mask\", \"bert_QA_M_token_id\"],\n",
    "        \"bert-nli\": [\"bert_NLI_M\", \"bert_NLI_M_attention_mask\", \"bert_NLI_M_token_id\"]\n",
    "    }\n",
    "\n",
    "inputs_cols = input_colses[TASK_NAME]\n",
    "\n",
    "AUTO = tf.data.experimental.AUTOTUNE\n",
    "train_dataset = (\n",
    "  tf.data.Dataset\n",
    "  .from_tensor_slices(({\"input_ids\": list(train[inputs_cols[0]]), \"attention_mask\": list(train[inputs_cols[1]]), \"token_type_ids\": list(train[inputs_cols[2]])},list(train['polarity'])))\n",
    "  .batch(BATCH_SIZE)\n",
    "  .repeat()\n",
    "  .cache()\n",
    "  .prefetch(AUTO)\n",
    ")\n",
    "\n",
    "valid_dataset = (\n",
    "  tf.data.Dataset\n",
    "  .from_tensor_slices(({\"input_ids\": list(test[inputs_cols[0]]), \"attention_mask\": list(test[inputs_cols[1]]), \"token_type_ids\": list(test[inputs_cols[2]])}, list(test['polarity'])))\n",
    "  .batch(BATCH_SIZE)\n",
    "  .repeat()\n",
    "  .cache()\n",
    "  .prefetch(AUTO)\n",
    ")\n",
    "\n",
    "with strategy.scope():\n",
    "  callback = EarlyStopping(monitor='val_loss', patience=10, restore_best_weights=True)\n",
    "  reduce_lr = ReduceLROnPlateau(monitor='val_loss', factor=0.2, patience=3, min_lr=1e-6)\n",
    "\n",
    "  model.compile(loss= tf.keras.losses.SparseCategoricalCrossentropy(from_logits=True), #tf.nn.sparse_softmax_cross_entropy_with_logits \n",
    "                     optimizer= tf.keras.optimizers.Adam(learning_rate=LR,epsilon=1e-08),\n",
    "                     metrics=[tf.keras.metrics.SparseCategoricalAccuracy('accuracy')])\n",
    "\n",
    "\n",
    "  print(\"currently training for :\", TASK_NAME)\n",
    "  # tpu\n",
    "  hist = model.fit(\n",
    "    train_dataset,\n",
    "    steps_per_epoch=steps_per_epoch,\n",
    "    epochs=EPOCH,\n",
    "    class_weight=d_class_weights,\n",
    "    # batch_size=batch_size,\n",
    "    shuffle=True,\n",
    "    # validation_split=0.2,\n",
    "    validation_data=valid_dataset,\n",
    "    validation_steps=validation_steps,\n",
    "    callbacks=[reduce_lr, callback]\n",
    "  )\n"
   ],
   "execution_count": null,
   "outputs": [
    {
     "output_type": "stream",
     "text": [
      "currently training for : bert-qa\n",
      "Epoch 1/50\n",
      "79/79 [==============================] - 99s 297ms/step - loss: 1.3337 - accuracy: 0.3529 - val_loss: 1.0552 - val_accuracy: 0.6573\n",
      "Epoch 2/50\n",
      "79/79 [==============================] - 56s 182ms/step - loss: 1.1456 - accuracy: 0.6627 - val_loss: 0.6485 - val_accuracy: 0.8193\n",
      "Epoch 3/50\n",
      "79/79 [==============================] - 14s 182ms/step - loss: 0.9697 - accuracy: 0.7349 - val_loss: 0.5640 - val_accuracy: 0.8391\n",
      "Epoch 4/50\n",
      "79/79 [==============================] - 14s 182ms/step - loss: 0.8251 - accuracy: 0.7564 - val_loss: 0.4810 - val_accuracy: 0.8596\n",
      "Epoch 5/50\n",
      "79/79 [==============================] - 15s 188ms/step - loss: 0.6942 - accuracy: 0.8021 - val_loss: 0.4436 - val_accuracy: 0.8698\n",
      "Epoch 6/50\n",
      "79/79 [==============================] - 14s 182ms/step - loss: 0.6155 - accuracy: 0.8246 - val_loss: 0.4086 - val_accuracy: 0.8820\n",
      "Epoch 7/50\n",
      "79/79 [==============================] - 14s 181ms/step - loss: 0.5483 - accuracy: 0.8376 - val_loss: 0.3982 - val_accuracy: 0.8849\n",
      "Epoch 8/50\n",
      "79/79 [==============================] - 14s 182ms/step - loss: 0.5144 - accuracy: 0.8475 - val_loss: 0.3931 - val_accuracy: 0.8878\n",
      "Epoch 9/50\n",
      "79/79 [==============================] - 14s 182ms/step - loss: 0.4589 - accuracy: 0.8612 - val_loss: 0.4019 - val_accuracy: 0.8865\n",
      "Epoch 10/50\n",
      "79/79 [==============================] - 14s 181ms/step - loss: 0.3993 - accuracy: 0.8681 - val_loss: 0.4098 - val_accuracy: 0.8880\n",
      "Epoch 11/50\n",
      "79/79 [==============================] - 14s 181ms/step - loss: 0.3792 - accuracy: 0.8751 - val_loss: 0.3980 - val_accuracy: 0.8919\n",
      "Epoch 12/50\n",
      "79/79 [==============================] - 14s 182ms/step - loss: 0.3371 - accuracy: 0.8705 - val_loss: 0.3536 - val_accuracy: 0.9039\n",
      "Epoch 13/50\n",
      "79/79 [==============================] - 14s 181ms/step - loss: 0.3179 - accuracy: 0.8873 - val_loss: 0.3502 - val_accuracy: 0.9039\n",
      "Epoch 14/50\n",
      "79/79 [==============================] - 14s 181ms/step - loss: 0.3128 - accuracy: 0.8855 - val_loss: 0.3411 - val_accuracy: 0.9065\n",
      "Epoch 15/50\n",
      "79/79 [==============================] - 14s 181ms/step - loss: 0.3083 - accuracy: 0.8878 - val_loss: 0.3453 - val_accuracy: 0.9044\n",
      "Epoch 16/50\n",
      "79/79 [==============================] - 14s 181ms/step - loss: 0.3023 - accuracy: 0.8882 - val_loss: 0.3459 - val_accuracy: 0.9049\n",
      "Epoch 17/50\n",
      "79/79 [==============================] - 14s 182ms/step - loss: 0.3014 - accuracy: 0.8866 - val_loss: 0.3325 - val_accuracy: 0.9076\n",
      "Epoch 18/50\n",
      "79/79 [==============================] - 14s 182ms/step - loss: 0.2901 - accuracy: 0.8933 - val_loss: 0.3340 - val_accuracy: 0.9096\n",
      "Epoch 19/50\n",
      "79/79 [==============================] - 14s 181ms/step - loss: 0.2896 - accuracy: 0.8945 - val_loss: 0.3311 - val_accuracy: 0.9091\n",
      "Epoch 20/50\n",
      "79/79 [==============================] - 14s 181ms/step - loss: 0.2709 - accuracy: 0.8987 - val_loss: 0.3378 - val_accuracy: 0.9099\n",
      "Epoch 21/50\n",
      "79/79 [==============================] - 14s 181ms/step - loss: 0.2590 - accuracy: 0.8965 - val_loss: 0.3323 - val_accuracy: 0.9099\n",
      "Epoch 22/50\n",
      "79/79 [==============================] - 14s 181ms/step - loss: 0.2739 - accuracy: 0.8976 - val_loss: 0.3298 - val_accuracy: 0.9091\n",
      "Epoch 23/50\n",
      "79/79 [==============================] - 14s 182ms/step - loss: 0.2597 - accuracy: 0.9040 - val_loss: 0.3258 - val_accuracy: 0.9109\n",
      "Epoch 24/50\n",
      "79/79 [==============================] - 14s 182ms/step - loss: 0.2515 - accuracy: 0.9033 - val_loss: 0.3264 - val_accuracy: 0.9107\n",
      "Epoch 25/50\n",
      "79/79 [==============================] - 14s 182ms/step - loss: 0.2406 - accuracy: 0.9087 - val_loss: 0.3287 - val_accuracy: 0.9120\n",
      "Epoch 26/50\n",
      "79/79 [==============================] - 14s 182ms/step - loss: 0.2415 - accuracy: 0.9063 - val_loss: 0.3224 - val_accuracy: 0.9128\n",
      "Epoch 27/50\n",
      "79/79 [==============================] - 14s 182ms/step - loss: 0.2548 - accuracy: 0.9061 - val_loss: 0.3231 - val_accuracy: 0.9133\n",
      "Epoch 28/50\n",
      "79/79 [==============================] - 14s 181ms/step - loss: 0.2328 - accuracy: 0.9095 - val_loss: 0.3242 - val_accuracy: 0.9135\n",
      "Epoch 29/50\n",
      "79/79 [==============================] - 14s 182ms/step - loss: 0.2332 - accuracy: 0.9080 - val_loss: 0.3262 - val_accuracy: 0.9138\n",
      "Epoch 30/50\n",
      "79/79 [==============================] - 14s 182ms/step - loss: 0.2308 - accuracy: 0.9103 - val_loss: 0.3245 - val_accuracy: 0.9148\n",
      "Epoch 31/50\n",
      "79/79 [==============================] - 14s 181ms/step - loss: 0.2277 - accuracy: 0.9108 - val_loss: 0.3245 - val_accuracy: 0.9135\n",
      "Epoch 32/50\n",
      "79/79 [==============================] - 14s 181ms/step - loss: 0.2400 - accuracy: 0.9120 - val_loss: 0.3230 - val_accuracy: 0.9143\n",
      "Epoch 33/50\n",
      "79/79 [==============================] - 14s 182ms/step - loss: 0.2355 - accuracy: 0.9126 - val_loss: 0.3231 - val_accuracy: 0.9135\n",
      "Epoch 34/50\n",
      "79/79 [==============================] - 14s 181ms/step - loss: 0.2285 - accuracy: 0.9150 - val_loss: 0.3238 - val_accuracy: 0.9135\n",
      "Epoch 35/50\n",
      "79/79 [==============================] - 14s 180ms/step - loss: 0.2178 - accuracy: 0.9129 - val_loss: 0.3219 - val_accuracy: 0.9135\n",
      "Epoch 36/50\n",
      "79/79 [==============================] - 14s 181ms/step - loss: 0.2301 - accuracy: 0.9150 - val_loss: 0.3263 - val_accuracy: 0.9138\n",
      "Epoch 37/50\n",
      "79/79 [==============================] - 14s 181ms/step - loss: 0.2224 - accuracy: 0.9100 - val_loss: 0.3273 - val_accuracy: 0.9130\n",
      "Epoch 38/50\n",
      "79/79 [==============================] - 14s 182ms/step - loss: 0.2114 - accuracy: 0.9156 - val_loss: 0.3224 - val_accuracy: 0.9148\n",
      "Epoch 39/50\n",
      "79/79 [==============================] - 14s 181ms/step - loss: 0.2104 - accuracy: 0.9194 - val_loss: 0.3264 - val_accuracy: 0.9151\n",
      "Epoch 40/50\n",
      "79/79 [==============================] - 14s 182ms/step - loss: 0.2192 - accuracy: 0.9186 - val_loss: 0.3231 - val_accuracy: 0.9148\n",
      "Epoch 41/50\n",
      "79/79 [==============================] - 14s 181ms/step - loss: 0.2177 - accuracy: 0.9179 - val_loss: 0.3250 - val_accuracy: 0.9143\n",
      "Epoch 42/50\n",
      "79/79 [==============================] - 14s 181ms/step - loss: 0.2132 - accuracy: 0.9145 - val_loss: 0.3268 - val_accuracy: 0.9143\n",
      "Epoch 43/50\n",
      "79/79 [==============================] - 14s 181ms/step - loss: 0.2062 - accuracy: 0.9153 - val_loss: 0.3284 - val_accuracy: 0.9143\n",
      "Epoch 44/50\n",
      "79/79 [==============================] - 14s 181ms/step - loss: 0.1985 - accuracy: 0.9164 - val_loss: 0.3284 - val_accuracy: 0.9135\n",
      "Epoch 45/50\n",
      "79/79 [==============================] - 14s 182ms/step - loss: 0.2121 - accuracy: 0.9162 - val_loss: 0.3314 - val_accuracy: 0.9120\n"
     ],
     "name": "stdout"
    }
   ]
  },
  {
   "cell_type": "markdown",
   "metadata": {
    "id": "Qph77PnuMfsQ"
   },
   "source": [
    "# Evaluation of models and results"
   ]
  },
  {
   "cell_type": "code",
   "metadata": {
    "colab": {
     "base_uri": "https://localhost:8080/",
     "height": 1000
    },
    "id": "QRbJgj1TZ46O",
    "executionInfo": {
     "status": "ok",
     "timestamp": 1617297336732,
     "user_tz": -480,
     "elapsed": 3358,
     "user": {
      "displayName": "sean poh",
      "photoUrl": "",
      "userId": "09943683080325807772"
     }
    },
    "outputId": "33e3feaf-e092-4891-a6f4-e65272778c68"
   },
   "source": [
    "print('------------------------ THIS IS RESULTS FOR ', TASK_NAME.upper(), '--------------------------')\n",
    "print()\n",
    "\n",
    "plt.figure(figsize=(10,5))\n",
    "plt.plot(hist.history['accuracy'])\n",
    "plt.plot(hist.history['val_accuracy'])\n",
    "plt.title('Accuracy plot')\n",
    "plt.ylabel('accuracy')\n",
    "plt.xlabel('epoch')\n",
    "plt.legend(['train', 'val'], loc='lower right')\n",
    "plt.show()\n",
    "\n",
    "plt.figure(figsize=(10,5))\n",
    "plt.plot(hist.history['loss'])\n",
    "plt.plot(hist.history['val_loss'])\n",
    "plt.title('Loss')\n",
    "plt.ylabel('loss')\n",
    "plt.xlabel('epoch')\n",
    "plt.legend(['train', 'val'], loc='upper right')\n",
    "plt.show()\n",
    "\n",
    "plt.figure(figsize=(10,5))\n",
    "plt.plot(hist.history['lr'])\n",
    "plt.title('LR')\n",
    "plt.ylabel('LR')\n",
    "plt.xlabel('epoch')\n",
    "plt.legend(['train', 'val'], loc='upper right')\n",
    "plt.show()\n",
    "\n",
    "target_names = ['Negative', 'Neutral', 'Positive', 'None'] if NUM_CLASSES == 4 else ['Negative', 'Neutral', 'Positive', 'Conflicts', 'None']\n",
    "\n",
    "test_dataset = (\n",
    "      tf.data.Dataset\n",
    "      .from_tensor_slices(({\"input_ids\": list(test[inputs_cols[0]]), \"attention_mask\": list(test[inputs_cols[1]]), \"token_type_ids\": list(test[inputs_cols[2]])}))\n",
    "      .batch(BATCH_SIZE)\n",
    "      .prefetch(AUTO)\n",
    "    )\n",
    "\n",
    "predictions = model.predict(test_dataset, verbose=1)\n",
    "predictions = tf.nn.softmax(tf.constant(predictions)[0])\n",
    "# print(predictions)\n",
    "y_pred_argmax = np.argmax(tf.constant(predictions), axis=1)#tf.math.argmax(y_pred, axis=1)\n",
    "print(metrics.classification_report(list(test['polarity']), y_pred_argmax, target_names=target_names))\n"
   ],
   "execution_count": null,
   "outputs": [
    {
     "output_type": "stream",
     "text": [
      "------------------------ THIS IS RESULTS FOR  BERT-QA --------------------------\n",
      "\n"
     ],
     "name": "stdout"
    },
    {
     "output_type": "display_data",
     "data": {
      "image/png": "[encoded data removed]",
      "text/plain": [
       "<Figure size 720x360 with 1 Axes>"
      ]
     },
     "metadata": {
      "tags": [],
      "needs_background": "light"
     }
    },
    {
     "output_type": "display_data",
     "data": {
      "image/png": "[encoded data removed]",
      "text/plain": [
       "<Figure size 720x360 with 1 Axes>"
      ]
     },
     "metadata": {
      "tags": [],
      "needs_background": "light"
     }
    },
    {
     "output_type": "display_data",
     "data": {
      "image/png": "[encoded data removed]",
      "text/plain": [
       "<Figure size 720x360 with 1 Axes>"
      ]
     },
     "metadata": {
      "tags": [],
      "needs_background": "light"
     }
    },
    {
     "output_type": "stream",
     "text": [
      "21/21 [==============================] - 2s 50ms/step\n",
      "              precision    recall  f1-score   support\n",
      "\n",
      "    Negative       0.64      0.81      0.71       222\n",
      "     Neutral       0.49      0.59      0.53        94\n",
      "    Positive       0.80      0.91      0.85       657\n",
      "        None       0.98      0.93      0.95      3027\n",
      "\n",
      "    accuracy                           0.91      4000\n",
      "   macro avg       0.73      0.81      0.76      4000\n",
      "weighted avg       0.92      0.91      0.91      4000\n",
      "\n"
     ],
     "name": "stdout"
    }
   ]
  },
  {
   "cell_type": "markdown",
   "metadata": {
    "id": "eL5Zh0-dZf2I"
   },
   "source": [
    "# Original results from the experiments\n",
    "\n",
    "These are the results from the experiments in the papers\n",
    "\n",
    "Semeval dataset * WITHOUT CONFLICT* sentiment\n",
    "\n",
    "It involves None, Negative, Neutral, Positive"
   ]
  },
  {
   "cell_type": "markdown",
   "metadata": {
    "id": "nHclHwiLIYa-"
   },
   "source": [
    ""
   ]
  },
  {
   "cell_type": "markdown",
   "metadata": {
    "id": "RGppwe378yBg"
   },
   "source": [
    "### Bert-NLI"
   ]
  },
  {
   "cell_type": "code",
   "metadata": {
    "colab": {
     "base_uri": "https://localhost:8080/",
     "height": 1000
    },
    "id": "ImKyyRzBX7CE",
    "executionInfo": {
     "status": "ok",
     "timestamp": 1615970957830,
     "user_tz": -480,
     "elapsed": 17060,
     "user": {
      "displayName": "sean poh",
      "photoUrl": "",
      "userId": "09943683080325807772"
     }
    },
    "outputId": "417b85a0-c202-4579-cd7b-9033090c920c"
   },
   "source": [
    "plt.figure(figsize=(10,5))\n",
    "plt.plot(hist.history['accuracy'])\n",
    "plt.plot(hist.history['val_accuracy'])\n",
    "plt.title('Accuracy plot')\n",
    "plt.ylabel('accuracy')\n",
    "plt.xlabel('epoch')\n",
    "plt.legend(['train', 'val'], loc='lower right')\n",
    "plt.show()\n",
    "\n",
    "plt.figure(figsize=(10,5))\n",
    "plt.plot(hist.history['loss'])\n",
    "plt.plot(hist.history['val_loss'])\n",
    "plt.title('Loss')\n",
    "plt.ylabel('loss')\n",
    "plt.xlabel('epoch')\n",
    "plt.legend(['train', 'val'], loc='upper right')\n",
    "plt.show()\n",
    "\n",
    "plt.figure(figsize=(10,5))\n",
    "plt.plot(hist.history['lr'])\n",
    "plt.title('LR')\n",
    "plt.ylabel('LR')\n",
    "plt.xlabel('epoch')\n",
    "plt.legend(['train', 'val'], loc='upper right')\n",
    "plt.show()\n",
    "\n",
    "target_names = ['Negative', 'Neutral', 'Positive', 'None'] if NUM_CLASSES == 4 else ['Negative', 'Neutral', 'Positive', 'Conflicts', 'None']\n",
    "# target_names = ['Negative', 'Neutral', 'Positive', 'Conflicts']\n",
    "# target_names = ['Negative', 'Neutral', 'Positive']\n",
    "\n",
    "test_dataset = (\n",
    "      tf.data.Dataset\n",
    "      .from_tensor_slices(({\"input_ids\": list(test[inputs_cols[0]]), \"attention_mask\": list(test[inputs_cols[1]]), \"token_type_ids\": list(test[inputs_cols[2]])}))\n",
    "      .batch(BATCH_SIZE)\n",
    "      .prefetch(AUTO)\n",
    "    )\n",
    "\n",
    "predictions = model.predict(test_dataset, verbose=1)\n",
    "predictions = tf.nn.softmax(tf.constant(predictions)[0])\n",
    "# print(predictions)\n",
    "y_pred_argmax = np.argmax(tf.constant(predictions), axis=1)#tf.math.argmax(y_pred, axis=1)\n",
    "print(metrics.classification_report(list(test['polarity']), y_pred_argmax, target_names=target_names))\n"
   ],
   "execution_count": null,
   "outputs": [
    {
     "output_type": "display_data",
     "data": {
      "image/png": "[encoded data removed]",
      "text/plain": [
       "<Figure size 720x360 with 1 Axes>"
      ]
     },
     "metadata": {
      "tags": [],
      "needs_background": "light"
     }
    },
    {
     "output_type": "display_data",
     "data": {
      "image/png": "[encoded data removed]",
      "text/plain": [
       "<Figure size 720x360 with 1 Axes>"
      ]
     },
     "metadata": {
      "tags": [],
      "needs_background": "light"
     }
    },
    {
     "output_type": "display_data",
     "data": {
      "image/png": "[encoded data removed]",
      "text/plain": [
       "<Figure size 720x360 with 1 Axes>"
      ]
     },
     "metadata": {
      "tags": [],
      "needs_background": "light"
     }
    },
    {
     "output_type": "stream",
     "text": [
      "21/21 [==============================] - 15s 557ms/step\n",
      "              precision    recall  f1-score   support\n",
      "\n",
      "    Negative       0.64      0.83      0.72       222\n",
      "     Neutral       0.56      0.64      0.60        94\n",
      "    Positive       0.85      0.88      0.86       657\n",
      "        None       0.97      0.94      0.96      3027\n",
      "\n",
      "    accuracy                           0.92      4000\n",
      "   macro avg       0.76      0.82      0.79      4000\n",
      "weighted avg       0.93      0.92      0.92      4000\n",
      "\n"
     ],
     "name": "stdout"
    }
   ]
  },
  {
   "cell_type": "markdown",
   "metadata": {
    "id": "ZXq1AxKp8t1_"
   },
   "source": [
    "### Bert-QA"
   ]
  },
  {
   "cell_type": "code",
   "metadata": {
    "colab": {
     "base_uri": "https://localhost:8080/",
     "height": 1000
    },
    "id": "j94uhH38vp4x",
    "executionInfo": {
     "status": "ok",
     "timestamp": 1616330606176,
     "user_tz": -480,
     "elapsed": 3263,
     "user": {
      "displayName": "sean poh",
      "photoUrl": "",
      "userId": "09943683080325807772"
     }
    },
    "outputId": "f70f3ffa-2f9c-4424-feb7-a3ff12beec17"
   },
   "source": [
    "plt.figure(figsize=(10,5))\n",
    "plt.plot(hist.history['accuracy'])\n",
    "plt.plot(hist.history['val_accuracy'])\n",
    "plt.title('Accuracy plot')\n",
    "plt.ylabel('accuracy')\n",
    "plt.xlabel('epoch')\n",
    "plt.legend(['train', 'val'], loc='lower right')\n",
    "plt.show()\n",
    "\n",
    "plt.figure(figsize=(10,5))\n",
    "plt.plot(hist.history['loss'])\n",
    "plt.plot(hist.history['val_loss'])\n",
    "plt.title('Loss')\n",
    "plt.ylabel('loss')\n",
    "plt.xlabel('epoch')\n",
    "plt.legend(['train', 'val'], loc='upper right')\n",
    "plt.show()\n",
    "\n",
    "plt.figure(figsize=(10,5))\n",
    "plt.plot(hist.history['lr'])\n",
    "plt.title('LR')\n",
    "plt.ylabel('LR')\n",
    "plt.xlabel('epoch')\n",
    "plt.legend(['train', 'val'], loc='upper right')\n",
    "plt.show()\n",
    "\n",
    "target_names = ['Negative', 'Neutral', 'Positive', 'None'] if NUM_CLASSES == 4 else ['Negative', 'Neutral', 'Positive', 'Conflicts', 'None']\n",
    "\n",
    "test_dataset = (\n",
    "      tf.data.Dataset\n",
    "      .from_tensor_slices(({\"input_ids\": list(test[inputs_cols[0]]), \"attention_mask\": list(test[inputs_cols[1]]), \"token_type_ids\": list(test[inputs_cols[2]])}))\n",
    "      .batch(BATCH_SIZE)\n",
    "      .prefetch(AUTO)\n",
    "    )\n",
    "\n",
    "predictions = model.predict(test_dataset, verbose=1)\n",
    "predictions = tf.nn.softmax(tf.constant(predictions)[0])\n",
    "# print(predictions)\n",
    "y_pred_argmax = np.argmax(tf.constant(predictions), axis=1)#tf.math.argmax(y_pred, axis=1)\n",
    "print(metrics.classification_report(list(test['polarity']), y_pred_argmax, target_names=target_names))\n"
   ],
   "execution_count": null,
   "outputs": [
    {
     "output_type": "display_data",
     "data": {
      "image/png": "[encoded data removed]",
      "text/plain": [
       "<Figure size 720x360 with 1 Axes>"
      ]
     },
     "metadata": {
      "tags": [],
      "needs_background": "light"
     }
    },
    {
     "output_type": "display_data",
     "data": {
      "image/png": "[encoded data removed]",
      "text/plain": [
       "<Figure size 720x360 with 1 Axes>"
      ]
     },
     "metadata": {
      "tags": [],
      "needs_background": "light"
     }
    },
    {
     "output_type": "display_data",
     "data": {
      "image/png": "[encoded data removed]",
      "text/plain": [
       "<Figure size 720x360 with 1 Axes>"
      ]
     },
     "metadata": {
      "tags": [],
      "needs_background": "light"
     }
    },
    {
     "output_type": "stream",
     "text": [
      "21/21 [==============================] - 2s 50ms/step\n",
      "              precision    recall  f1-score   support\n",
      "\n",
      "    Negative       0.59      0.82      0.68       222\n",
      "     Neutral       0.49      0.66      0.56        94\n",
      "    Positive       0.81      0.89      0.85       657\n",
      "        None       0.98      0.92      0.95      3027\n",
      "\n",
      "    accuracy                           0.91      4000\n",
      "   macro avg       0.72      0.82      0.76      4000\n",
      "weighted avg       0.92      0.91      0.91      4000\n",
      "\n"
     ],
     "name": "stdout"
    }
   ]
  }
 ]
}