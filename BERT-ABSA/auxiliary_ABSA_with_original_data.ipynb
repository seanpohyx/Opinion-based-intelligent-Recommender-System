{
 "nbformat": 4,
 "nbformat_minor": 0,
 "metadata": {
  "colab": {
   "name": "auxiliary_ABSA_with_original_data.ipynb",
   "provenance": [],
   "collapsed_sections": [],
   "machine_shape": "hm"
  },
  "kernelspec": {
   "name": "python3",
   "display_name": "Python 3"
  },
  "accelerator": "TPU"
 },
 "cells": [
  {
   "cell_type": "markdown",
   "metadata": {
    "id": "NmPzIghyMXZm"
   },
   "source": [
    "This notebook is to create the model for BERT-QA and BERT-NLI\n",
    "\n",
    "Please ensure that your **runtime type** is set to **TPU**\n",
    "\n",
    "Runtime > change runtime type > TPU\n"
   ]
  },
  {
   "cell_type": "code",
   "metadata": {
    "id": "nD8YIFEbqwbM",
    "colab": {
     "base_uri": "https://localhost:8080/"
    },
    "executionInfo": {
     "status": "ok",
     "timestamp": 1620451095446,
     "user_tz": -480,
     "elapsed": 16244,
     "user": {
      "displayName": "May Wang",
      "photoUrl": "",
      "userId": "18102931076838470424"
     }
    },
    "outputId": "c4188ce5-6bc8-46e5-ce94-9e363ac86177"
   },
   "source": [
    "from google.colab import drive\n",
    "drive.mount(\"/content/drive\")"
   ],
   "execution_count": null,
   "outputs": [
    {
     "output_type": "stream",
     "text": [
      "Mounted at /content/drive\n"
     ],
     "name": "stdout"
    }
   ]
  },
  {
   "cell_type": "code",
   "metadata": {
    "id": "XZzSKF99uVVr",
    "colab": {
     "base_uri": "https://localhost:8080/"
    },
    "executionInfo": {
     "status": "ok",
     "timestamp": 1620451118185,
     "user_tz": -480,
     "elapsed": 8242,
     "user": {
      "displayName": "May Wang",
      "photoUrl": "",
      "userId": "18102931076838470424"
     }
    },
    "outputId": "0d93d3f1-55e9-472d-c38b-d4084b263aa5"
   },
   "source": [
    "!pip install -r /path/to/BERT-ABSA/requirements.txt"
   ],
   "execution_count": null,
   "outputs": [
    {
     "output_type": "stream",
     "text": [
      "Requirement already satisfied: numpy>=1.13.3 in /usr/local/lib/python3.7/dist-packages (from -r /content/drive/MyDrive/Recommender_system/BERT-ABSA/requirements.txt (line 1)) (1.19.5)\n",
      "Requirement already satisfied: torch>=0.4.0 in /usr/local/lib/python3.7/dist-packages (from -r /content/drive/MyDrive/Recommender_system/BERT-ABSA/requirements.txt (line 2)) (1.8.1+cu101)\n",
      "Collecting transformers>=3.0.0\n",
      "\u001B[?25l  Downloading https://files.pythonhosted.org/packages/d8/b2/57495b5309f09fa501866e225c84532d1fd89536ea62406b2181933fb418/transformers-4.5.1-py3-none-any.whl (2.1MB)\n",
      "\u001B[K     |████████████████████████████████| 2.1MB 6.6MB/s \n",
      "\u001B[?25hRequirement already satisfied: sklearn in /usr/local/lib/python3.7/dist-packages (from -r /content/drive/MyDrive/Recommender_system/BERT-ABSA/requirements.txt (line 4)) (0.0)\n",
      "Requirement already satisfied: typing-extensions in /usr/local/lib/python3.7/dist-packages (from torch>=0.4.0->-r /content/drive/MyDrive/Recommender_system/BERT-ABSA/requirements.txt (line 2)) (3.7.4.3)\n",
      "Requirement already satisfied: regex!=2019.12.17 in /usr/local/lib/python3.7/dist-packages (from transformers>=3.0.0->-r /content/drive/MyDrive/Recommender_system/BERT-ABSA/requirements.txt (line 3)) (2019.12.20)\n",
      "Requirement already satisfied: tqdm>=4.27 in /usr/local/lib/python3.7/dist-packages (from transformers>=3.0.0->-r /content/drive/MyDrive/Recommender_system/BERT-ABSA/requirements.txt (line 3)) (4.41.1)\n",
      "Collecting tokenizers<0.11,>=0.10.1\n",
      "\u001B[?25l  Downloading https://files.pythonhosted.org/packages/ae/04/5b870f26a858552025a62f1649c20d29d2672c02ff3c3fb4c688ca46467a/tokenizers-0.10.2-cp37-cp37m-manylinux2010_x86_64.whl (3.3MB)\n",
      "\u001B[K     |████████████████████████████████| 3.3MB 27.6MB/s \n",
      "\u001B[?25hCollecting sacremoses\n",
      "\u001B[?25l  Downloading https://files.pythonhosted.org/packages/75/ee/67241dc87f266093c533a2d4d3d69438e57d7a90abb216fa076e7d475d4a/sacremoses-0.0.45-py3-none-any.whl (895kB)\n",
      "\u001B[K     |████████████████████████████████| 901kB 43.1MB/s \n",
      "\u001B[?25hRequirement already satisfied: requests in /usr/local/lib/python3.7/dist-packages (from transformers>=3.0.0->-r /content/drive/MyDrive/Recommender_system/BERT-ABSA/requirements.txt (line 3)) (2.23.0)\n",
      "Requirement already satisfied: importlib-metadata; python_version < \"3.8\" in /usr/local/lib/python3.7/dist-packages (from transformers>=3.0.0->-r /content/drive/MyDrive/Recommender_system/BERT-ABSA/requirements.txt (line 3)) (3.10.1)\n",
      "Requirement already satisfied: packaging in /usr/local/lib/python3.7/dist-packages (from transformers>=3.0.0->-r /content/drive/MyDrive/Recommender_system/BERT-ABSA/requirements.txt (line 3)) (20.9)\n",
      "Requirement already satisfied: filelock in /usr/local/lib/python3.7/dist-packages (from transformers>=3.0.0->-r /content/drive/MyDrive/Recommender_system/BERT-ABSA/requirements.txt (line 3)) (3.0.12)\n",
      "Requirement already satisfied: scikit-learn in /usr/local/lib/python3.7/dist-packages (from sklearn->-r /content/drive/MyDrive/Recommender_system/BERT-ABSA/requirements.txt (line 4)) (0.22.2.post1)\n",
      "Requirement already satisfied: joblib in /usr/local/lib/python3.7/dist-packages (from sacremoses->transformers>=3.0.0->-r /content/drive/MyDrive/Recommender_system/BERT-ABSA/requirements.txt (line 3)) (1.0.1)\n",
      "Requirement already satisfied: click in /usr/local/lib/python3.7/dist-packages (from sacremoses->transformers>=3.0.0->-r /content/drive/MyDrive/Recommender_system/BERT-ABSA/requirements.txt (line 3)) (7.1.2)\n",
      "Requirement already satisfied: six in /usr/local/lib/python3.7/dist-packages (from sacremoses->transformers>=3.0.0->-r /content/drive/MyDrive/Recommender_system/BERT-ABSA/requirements.txt (line 3)) (1.15.0)\n",
      "Requirement already satisfied: idna<3,>=2.5 in /usr/local/lib/python3.7/dist-packages (from requests->transformers>=3.0.0->-r /content/drive/MyDrive/Recommender_system/BERT-ABSA/requirements.txt (line 3)) (2.10)\n",
      "Requirement already satisfied: certifi>=2017.4.17 in /usr/local/lib/python3.7/dist-packages (from requests->transformers>=3.0.0->-r /content/drive/MyDrive/Recommender_system/BERT-ABSA/requirements.txt (line 3)) (2020.12.5)\n",
      "Requirement already satisfied: chardet<4,>=3.0.2 in /usr/local/lib/python3.7/dist-packages (from requests->transformers>=3.0.0->-r /content/drive/MyDrive/Recommender_system/BERT-ABSA/requirements.txt (line 3)) (3.0.4)\n",
      "Requirement already satisfied: urllib3!=1.25.0,!=1.25.1,<1.26,>=1.21.1 in /usr/local/lib/python3.7/dist-packages (from requests->transformers>=3.0.0->-r /content/drive/MyDrive/Recommender_system/BERT-ABSA/requirements.txt (line 3)) (1.24.3)\n",
      "Requirement already satisfied: zipp>=0.5 in /usr/local/lib/python3.7/dist-packages (from importlib-metadata; python_version < \"3.8\"->transformers>=3.0.0->-r /content/drive/MyDrive/Recommender_system/BERT-ABSA/requirements.txt (line 3)) (3.4.1)\n",
      "Requirement already satisfied: pyparsing>=2.0.2 in /usr/local/lib/python3.7/dist-packages (from packaging->transformers>=3.0.0->-r /content/drive/MyDrive/Recommender_system/BERT-ABSA/requirements.txt (line 3)) (2.4.7)\n",
      "Requirement already satisfied: scipy>=0.17.0 in /usr/local/lib/python3.7/dist-packages (from scikit-learn->sklearn->-r /content/drive/MyDrive/Recommender_system/BERT-ABSA/requirements.txt (line 4)) (1.4.1)\n",
      "Installing collected packages: tokenizers, sacremoses, transformers\n",
      "Successfully installed sacremoses-0.0.45 tokenizers-0.10.2 transformers-4.5.1\n"
     ],
     "name": "stdout"
    }
   ]
  },
  {
   "cell_type": "code",
   "metadata": {
    "id": "jH4m1VxOGwvu",
    "colab": {
     "base_uri": "https://localhost:8080/"
    },
    "executionInfo": {
     "status": "ok",
     "timestamp": 1620451123613,
     "user_tz": -480,
     "elapsed": 5868,
     "user": {
      "displayName": "May Wang",
      "photoUrl": "",
      "userId": "18102931076838470424"
     }
    },
    "outputId": "5eb055c5-1747-4c08-acab-4fc79770c60d"
   },
   "source": [
    "!pip install transformers==3"
   ],
   "execution_count": null,
   "outputs": [
    {
     "output_type": "stream",
     "text": [
      "Collecting transformers==3\n",
      "\u001B[?25l  Downloading https://files.pythonhosted.org/packages/9c/35/1c3f6e62d81f5f0daff1384e6d5e6c5758682a8357ebc765ece2b9def62b/transformers-3.0.0-py3-none-any.whl (754kB)\n",
      "\r\u001B[K     |▍                               | 10kB 15.9MB/s eta 0:00:01\r\u001B[K     |▉                               | 20kB 20.5MB/s eta 0:00:01\r\u001B[K     |█▎                              | 30kB 10.6MB/s eta 0:00:01\r\u001B[K     |█▊                              | 40kB 9.3MB/s eta 0:00:01\r\u001B[K     |██▏                             | 51kB 5.4MB/s eta 0:00:01\r\u001B[K     |██▋                             | 61kB 5.3MB/s eta 0:00:01\r\u001B[K     |███                             | 71kB 6.0MB/s eta 0:00:01\r\u001B[K     |███▌                            | 81kB 6.4MB/s eta 0:00:01\r\u001B[K     |████                            | 92kB 6.5MB/s eta 0:00:01\r\u001B[K     |████▍                           | 102kB 5.3MB/s eta 0:00:01\r\u001B[K     |████▊                           | 112kB 5.3MB/s eta 0:00:01\r\u001B[K     |█████▏                          | 122kB 5.3MB/s eta 0:00:01\r\u001B[K     |█████▋                          | 133kB 5.3MB/s eta 0:00:01\r\u001B[K     |██████                          | 143kB 5.3MB/s eta 0:00:01\r\u001B[K     |██████▌                         | 153kB 5.3MB/s eta 0:00:01\r\u001B[K     |███████                         | 163kB 5.3MB/s eta 0:00:01\r\u001B[K     |███████▍                        | 174kB 5.3MB/s eta 0:00:01\r\u001B[K     |███████▉                        | 184kB 5.3MB/s eta 0:00:01\r\u001B[K     |████████▎                       | 194kB 5.3MB/s eta 0:00:01\r\u001B[K     |████████▊                       | 204kB 5.3MB/s eta 0:00:01\r\u001B[K     |█████████▏                      | 215kB 5.3MB/s eta 0:00:01\r\u001B[K     |█████████▌                      | 225kB 5.3MB/s eta 0:00:01\r\u001B[K     |██████████                      | 235kB 5.3MB/s eta 0:00:01\r\u001B[K     |██████████▍                     | 245kB 5.3MB/s eta 0:00:01\r\u001B[K     |██████████▉                     | 256kB 5.3MB/s eta 0:00:01\r\u001B[K     |███████████▎                    | 266kB 5.3MB/s eta 0:00:01\r\u001B[K     |███████████▊                    | 276kB 5.3MB/s eta 0:00:01\r\u001B[K     |████████████▏                   | 286kB 5.3MB/s eta 0:00:01\r\u001B[K     |████████████▋                   | 296kB 5.3MB/s eta 0:00:01\r\u001B[K     |█████████████                   | 307kB 5.3MB/s eta 0:00:01\r\u001B[K     |█████████████▌                  | 317kB 5.3MB/s eta 0:00:01\r\u001B[K     |██████████████                  | 327kB 5.3MB/s eta 0:00:01\r\u001B[K     |██████████████▎                 | 337kB 5.3MB/s eta 0:00:01\r\u001B[K     |██████████████▊                 | 348kB 5.3MB/s eta 0:00:01\r\u001B[K     |███████████████▏                | 358kB 5.3MB/s eta 0:00:01\r\u001B[K     |███████████████▋                | 368kB 5.3MB/s eta 0:00:01\r\u001B[K     |████████████████                | 378kB 5.3MB/s eta 0:00:01\r\u001B[K     |████████████████▌               | 389kB 5.3MB/s eta 0:00:01\r\u001B[K     |█████████████████               | 399kB 5.3MB/s eta 0:00:01\r\u001B[K     |█████████████████▍              | 409kB 5.3MB/s eta 0:00:01\r\u001B[K     |█████████████████▉              | 419kB 5.3MB/s eta 0:00:01\r\u001B[K     |██████████████████▎             | 430kB 5.3MB/s eta 0:00:01\r\u001B[K     |██████████████████▊             | 440kB 5.3MB/s eta 0:00:01\r\u001B[K     |███████████████████             | 450kB 5.3MB/s eta 0:00:01\r\u001B[K     |███████████████████▌            | 460kB 5.3MB/s eta 0:00:01\r\u001B[K     |████████████████████            | 471kB 5.3MB/s eta 0:00:01\r\u001B[K     |████████████████████▍           | 481kB 5.3MB/s eta 0:00:01\r\u001B[K     |████████████████████▉           | 491kB 5.3MB/s eta 0:00:01\r\u001B[K     |█████████████████████▎          | 501kB 5.3MB/s eta 0:00:01\r\u001B[K     |█████████████████████▊          | 512kB 5.3MB/s eta 0:00:01\r\u001B[K     |██████████████████████▏         | 522kB 5.3MB/s eta 0:00:01\r\u001B[K     |██████████████████████▋         | 532kB 5.3MB/s eta 0:00:01\r\u001B[K     |███████████████████████         | 542kB 5.3MB/s eta 0:00:01\r\u001B[K     |███████████████████████▌        | 552kB 5.3MB/s eta 0:00:01\r\u001B[K     |███████████████████████▉        | 563kB 5.3MB/s eta 0:00:01\r\u001B[K     |████████████████████████▎       | 573kB 5.3MB/s eta 0:00:01\r\u001B[K     |████████████████████████▊       | 583kB 5.3MB/s eta 0:00:01\r\u001B[K     |█████████████████████████▏      | 593kB 5.3MB/s eta 0:00:01\r\u001B[K     |█████████████████████████▋      | 604kB 5.3MB/s eta 0:00:01\r\u001B[K     |██████████████████████████      | 614kB 5.3MB/s eta 0:00:01\r\u001B[K     |██████████████████████████▌     | 624kB 5.3MB/s eta 0:00:01\r\u001B[K     |███████████████████████████     | 634kB 5.3MB/s eta 0:00:01\r\u001B[K     |███████████████████████████▍    | 645kB 5.3MB/s eta 0:00:01\r\u001B[K     |███████████████████████████▉    | 655kB 5.3MB/s eta 0:00:01\r\u001B[K     |████████████████████████████▎   | 665kB 5.3MB/s eta 0:00:01\r\u001B[K     |████████████████████████████▋   | 675kB 5.3MB/s eta 0:00:01\r\u001B[K     |█████████████████████████████   | 686kB 5.3MB/s eta 0:00:01\r\u001B[K     |█████████████████████████████▌  | 696kB 5.3MB/s eta 0:00:01\r\u001B[K     |██████████████████████████████  | 706kB 5.3MB/s eta 0:00:01\r\u001B[K     |██████████████████████████████▍ | 716kB 5.3MB/s eta 0:00:01\r\u001B[K     |██████████████████████████████▉ | 727kB 5.3MB/s eta 0:00:01\r\u001B[K     |███████████████████████████████▎| 737kB 5.3MB/s eta 0:00:01\r\u001B[K     |███████████████████████████████▊| 747kB 5.3MB/s eta 0:00:01\r\u001B[K     |████████████████████████████████| 757kB 5.3MB/s \n",
      "\u001B[?25hRequirement already satisfied: tqdm>=4.27 in /usr/local/lib/python3.7/dist-packages (from transformers==3) (4.41.1)\n",
      "Requirement already satisfied: packaging in /usr/local/lib/python3.7/dist-packages (from transformers==3) (20.9)\n",
      "Requirement already satisfied: filelock in /usr/local/lib/python3.7/dist-packages (from transformers==3) (3.0.12)\n",
      "Requirement already satisfied: numpy in /usr/local/lib/python3.7/dist-packages (from transformers==3) (1.19.5)\n",
      "Collecting tokenizers==0.8.0-rc4\n",
      "\u001B[?25l  Downloading https://files.pythonhosted.org/packages/f7/82/0e82a95bd9db2b32569500cc1bb47aa7c4e0f57aa5e35cceba414096917b/tokenizers-0.8.0rc4-cp37-cp37m-manylinux1_x86_64.whl (3.0MB)\n",
      "\u001B[K     |████████████████████████████████| 3.0MB 40.6MB/s \n",
      "\u001B[?25hRequirement already satisfied: regex!=2019.12.17 in /usr/local/lib/python3.7/dist-packages (from transformers==3) (2019.12.20)\n",
      "Requirement already satisfied: requests in /usr/local/lib/python3.7/dist-packages (from transformers==3) (2.23.0)\n",
      "Requirement already satisfied: sacremoses in /usr/local/lib/python3.7/dist-packages (from transformers==3) (0.0.45)\n",
      "Collecting sentencepiece\n",
      "\u001B[?25l  Downloading https://files.pythonhosted.org/packages/f5/99/e0808cb947ba10f575839c43e8fafc9cc44e4a7a2c8f79c60db48220a577/sentencepiece-0.1.95-cp37-cp37m-manylinux2014_x86_64.whl (1.2MB)\n",
      "\u001B[K     |████████████████████████████████| 1.2MB 32.1MB/s \n",
      "\u001B[?25hRequirement already satisfied: pyparsing>=2.0.2 in /usr/local/lib/python3.7/dist-packages (from packaging->transformers==3) (2.4.7)\n",
      "Requirement already satisfied: urllib3!=1.25.0,!=1.25.1,<1.26,>=1.21.1 in /usr/local/lib/python3.7/dist-packages (from requests->transformers==3) (1.24.3)\n",
      "Requirement already satisfied: certifi>=2017.4.17 in /usr/local/lib/python3.7/dist-packages (from requests->transformers==3) (2020.12.5)\n",
      "Requirement already satisfied: chardet<4,>=3.0.2 in /usr/local/lib/python3.7/dist-packages (from requests->transformers==3) (3.0.4)\n",
      "Requirement already satisfied: idna<3,>=2.5 in /usr/local/lib/python3.7/dist-packages (from requests->transformers==3) (2.10)\n",
      "Requirement already satisfied: joblib in /usr/local/lib/python3.7/dist-packages (from sacremoses->transformers==3) (1.0.1)\n",
      "Requirement already satisfied: six in /usr/local/lib/python3.7/dist-packages (from sacremoses->transformers==3) (1.15.0)\n",
      "Requirement already satisfied: click in /usr/local/lib/python3.7/dist-packages (from sacremoses->transformers==3) (7.1.2)\n",
      "Installing collected packages: tokenizers, sentencepiece, transformers\n",
      "  Found existing installation: tokenizers 0.10.2\n",
      "    Uninstalling tokenizers-0.10.2:\n",
      "      Successfully uninstalled tokenizers-0.10.2\n",
      "  Found existing installation: transformers 4.5.1\n",
      "    Uninstalling transformers-4.5.1:\n",
      "      Successfully uninstalled transformers-4.5.1\n",
      "Successfully installed sentencepiece-0.1.95 tokenizers-0.8.0rc4 transformers-3.0.0\n"
     ],
     "name": "stdout"
    }
   ]
  },
  {
   "cell_type": "markdown",
   "metadata": {
    "id": "kZIbj8m8MmX6"
   },
   "source": [
    "# Installations of libraries and declarations of TPU"
   ]
  },
  {
   "cell_type": "code",
   "metadata": {
    "colab": {
     "base_uri": "https://localhost:8080/"
    },
    "id": "NIEQ8hNdhlJr",
    "executionInfo": {
     "status": "ok",
     "timestamp": 1620451132848,
     "user_tz": -480,
     "elapsed": 12279,
     "user": {
      "displayName": "May Wang",
      "photoUrl": "",
      "userId": "18102931076838470424"
     }
    },
    "outputId": "bcf5a1a3-ae74-4bbb-e2f2-06194fe0a3d3"
   },
   "source": [
    "import os\n",
    "import json\n",
    "import numpy as np\n",
    "\n",
    "!pip install tensorflow_addons\n",
    "import tensorflow as tf\n",
    "# from tensorflow.keras.layers import Dense, Embedding, Input, Flatten, Concatenate\n",
    "from tensorflow.keras.layers import *\n",
    "from tensorflow.keras.models import Model, Sequential\n",
    "from tensorflow.keras.optimizers import SGD, Adam, RMSprop\n",
    "from tensorflow.keras.callbacks import ModelCheckpoint, LearningRateScheduler, ReduceLROnPlateau\n",
    "from tensorflow.keras.utils import to_categorical\n",
    "from tensorflow.python.keras import backend as K\n",
    "from tensorflow.keras.callbacks import EarlyStopping\n",
    "import tensorflow_addons as tfa\n",
    "\n",
    "from sklearn.model_selection import train_test_split\n",
    "\n",
    "from transformers import BertTokenizer, TFBertModel, BertConfig\n",
    "from transformers import *"
   ],
   "execution_count": null,
   "outputs": [
    {
     "output_type": "stream",
     "text": [
      "Collecting tensorflow_addons\n",
      "\u001B[?25l  Downloading https://files.pythonhosted.org/packages/74/e3/56d2fe76f0bb7c88ed9b2a6a557e25e83e252aec08f13de34369cd850a0b/tensorflow_addons-0.12.1-cp37-cp37m-manylinux2010_x86_64.whl (703kB)\n",
      "\u001B[K     |████████████████████████████████| 706kB 6.6MB/s \n",
      "\u001B[?25hRequirement already satisfied: typeguard>=2.7 in /usr/local/lib/python3.7/dist-packages (from tensorflow_addons) (2.7.1)\n",
      "Installing collected packages: tensorflow-addons\n",
      "Successfully installed tensorflow-addons-0.12.1\n"
     ],
     "name": "stdout"
    }
   ]
  },
  {
   "cell_type": "code",
   "metadata": {
    "colab": {
     "base_uri": "https://localhost:8080/"
    },
    "id": "GhnIKel2huJN",
    "executionInfo": {
     "status": "ok",
     "timestamp": 1620451141252,
     "user_tz": -480,
     "elapsed": 20276,
     "user": {
      "displayName": "May Wang",
      "photoUrl": "",
      "userId": "18102931076838470424"
     }
    },
    "outputId": "04162bec-dd49-4dcb-b8fa-4e1f6a805ca8"
   },
   "source": [
    "try:\n",
    "    # TPU detection. No parameters necessary if TPU_NAME environment variable is\n",
    "    # set: this is always the case on Kaggle.\n",
    "    tpu = tf.distribute.cluster_resolver.TPUClusterResolver()\n",
    "    print('Running on TPU ', tpu.master())\n",
    "except ValueError:\n",
    "    tpu = None\n",
    "\n",
    "if tpu:\n",
    "    tf.config.experimental_connect_to_cluster(tpu)\n",
    "    tf.tpu.experimental.initialize_tpu_system(tpu)\n",
    "    strategy = tf.distribute.experimental.TPUStrategy(tpu)\n",
    "else:\n",
    "    # Default distribution strategy in Tensorflow. Works on CPU and single GPU.\n",
    "    strategy = tf.distribute.get_strategy()\n",
    "\n",
    "print(\"REPLICAS: \", strategy.num_replicas_in_sync)"
   ],
   "execution_count": null,
   "outputs": [
    {
     "output_type": "stream",
     "text": [
      "INFO:absl:Entering into master device scope: /job:worker/replica:0/task:0/device:CPU:0\n"
     ],
     "name": "stderr"
    },
    {
     "output_type": "stream",
     "text": [
      "Running on TPU  grpc://10.6.163.66:8470\n",
      "INFO:tensorflow:Initializing the TPU system: grpc://10.6.163.66:8470\n"
     ],
     "name": "stdout"
    },
    {
     "output_type": "stream",
     "text": [
      "INFO:tensorflow:Initializing the TPU system: grpc://10.6.163.66:8470\n"
     ],
     "name": "stderr"
    },
    {
     "output_type": "stream",
     "text": [
      "INFO:tensorflow:Clearing out eager caches\n"
     ],
     "name": "stdout"
    },
    {
     "output_type": "stream",
     "text": [
      "INFO:tensorflow:Clearing out eager caches\n"
     ],
     "name": "stderr"
    },
    {
     "output_type": "stream",
     "text": [
      "INFO:tensorflow:Finished initializing TPU system.\n"
     ],
     "name": "stdout"
    },
    {
     "output_type": "stream",
     "text": [
      "INFO:tensorflow:Finished initializing TPU system.\n",
      "WARNING:absl:`tf.distribute.experimental.TPUStrategy` is deprecated, please use  the non experimental symbol `tf.distribute.TPUStrategy` instead.\n"
     ],
     "name": "stderr"
    },
    {
     "output_type": "stream",
     "text": [
      "INFO:tensorflow:Found TPU system:\n"
     ],
     "name": "stdout"
    },
    {
     "output_type": "stream",
     "text": [
      "INFO:tensorflow:Found TPU system:\n"
     ],
     "name": "stderr"
    },
    {
     "output_type": "stream",
     "text": [
      "INFO:tensorflow:*** Num TPU Cores: 8\n"
     ],
     "name": "stdout"
    },
    {
     "output_type": "stream",
     "text": [
      "INFO:tensorflow:*** Num TPU Cores: 8\n"
     ],
     "name": "stderr"
    },
    {
     "output_type": "stream",
     "text": [
      "INFO:tensorflow:*** Num TPU Workers: 1\n"
     ],
     "name": "stdout"
    },
    {
     "output_type": "stream",
     "text": [
      "INFO:tensorflow:*** Num TPU Workers: 1\n"
     ],
     "name": "stderr"
    },
    {
     "output_type": "stream",
     "text": [
      "INFO:tensorflow:*** Num TPU Cores Per Worker: 8\n"
     ],
     "name": "stdout"
    },
    {
     "output_type": "stream",
     "text": [
      "INFO:tensorflow:*** Num TPU Cores Per Worker: 8\n"
     ],
     "name": "stderr"
    },
    {
     "output_type": "stream",
     "text": [
      "INFO:tensorflow:*** Available Device: _DeviceAttributes(/job:localhost/replica:0/task:0/device:CPU:0, CPU, 0, 0)\n"
     ],
     "name": "stdout"
    },
    {
     "output_type": "stream",
     "text": [
      "INFO:tensorflow:*** Available Device: _DeviceAttributes(/job:localhost/replica:0/task:0/device:CPU:0, CPU, 0, 0)\n"
     ],
     "name": "stderr"
    },
    {
     "output_type": "stream",
     "text": [
      "INFO:tensorflow:*** Available Device: _DeviceAttributes(/job:worker/replica:0/task:0/device:CPU:0, CPU, 0, 0)\n"
     ],
     "name": "stdout"
    },
    {
     "output_type": "stream",
     "text": [
      "INFO:tensorflow:*** Available Device: _DeviceAttributes(/job:worker/replica:0/task:0/device:CPU:0, CPU, 0, 0)\n"
     ],
     "name": "stderr"
    },
    {
     "output_type": "stream",
     "text": [
      "INFO:tensorflow:*** Available Device: _DeviceAttributes(/job:worker/replica:0/task:0/device:TPU:0, TPU, 0, 0)\n"
     ],
     "name": "stdout"
    },
    {
     "output_type": "stream",
     "text": [
      "INFO:tensorflow:*** Available Device: _DeviceAttributes(/job:worker/replica:0/task:0/device:TPU:0, TPU, 0, 0)\n"
     ],
     "name": "stderr"
    },
    {
     "output_type": "stream",
     "text": [
      "INFO:tensorflow:*** Available Device: _DeviceAttributes(/job:worker/replica:0/task:0/device:TPU:1, TPU, 0, 0)\n"
     ],
     "name": "stdout"
    },
    {
     "output_type": "stream",
     "text": [
      "INFO:tensorflow:*** Available Device: _DeviceAttributes(/job:worker/replica:0/task:0/device:TPU:1, TPU, 0, 0)\n"
     ],
     "name": "stderr"
    },
    {
     "output_type": "stream",
     "text": [
      "INFO:tensorflow:*** Available Device: _DeviceAttributes(/job:worker/replica:0/task:0/device:TPU:2, TPU, 0, 0)\n"
     ],
     "name": "stdout"
    },
    {
     "output_type": "stream",
     "text": [
      "INFO:tensorflow:*** Available Device: _DeviceAttributes(/job:worker/replica:0/task:0/device:TPU:2, TPU, 0, 0)\n"
     ],
     "name": "stderr"
    },
    {
     "output_type": "stream",
     "text": [
      "INFO:tensorflow:*** Available Device: _DeviceAttributes(/job:worker/replica:0/task:0/device:TPU:3, TPU, 0, 0)\n"
     ],
     "name": "stdout"
    },
    {
     "output_type": "stream",
     "text": [
      "INFO:tensorflow:*** Available Device: _DeviceAttributes(/job:worker/replica:0/task:0/device:TPU:3, TPU, 0, 0)\n"
     ],
     "name": "stderr"
    },
    {
     "output_type": "stream",
     "text": [
      "INFO:tensorflow:*** Available Device: _DeviceAttributes(/job:worker/replica:0/task:0/device:TPU:4, TPU, 0, 0)\n"
     ],
     "name": "stdout"
    },
    {
     "output_type": "stream",
     "text": [
      "INFO:tensorflow:*** Available Device: _DeviceAttributes(/job:worker/replica:0/task:0/device:TPU:4, TPU, 0, 0)\n"
     ],
     "name": "stderr"
    },
    {
     "output_type": "stream",
     "text": [
      "INFO:tensorflow:*** Available Device: _DeviceAttributes(/job:worker/replica:0/task:0/device:TPU:5, TPU, 0, 0)\n"
     ],
     "name": "stdout"
    },
    {
     "output_type": "stream",
     "text": [
      "INFO:tensorflow:*** Available Device: _DeviceAttributes(/job:worker/replica:0/task:0/device:TPU:5, TPU, 0, 0)\n"
     ],
     "name": "stderr"
    },
    {
     "output_type": "stream",
     "text": [
      "INFO:tensorflow:*** Available Device: _DeviceAttributes(/job:worker/replica:0/task:0/device:TPU:6, TPU, 0, 0)\n"
     ],
     "name": "stdout"
    },
    {
     "output_type": "stream",
     "text": [
      "INFO:tensorflow:*** Available Device: _DeviceAttributes(/job:worker/replica:0/task:0/device:TPU:6, TPU, 0, 0)\n"
     ],
     "name": "stderr"
    },
    {
     "output_type": "stream",
     "text": [
      "INFO:tensorflow:*** Available Device: _DeviceAttributes(/job:worker/replica:0/task:0/device:TPU:7, TPU, 0, 0)\n"
     ],
     "name": "stdout"
    },
    {
     "output_type": "stream",
     "text": [
      "INFO:tensorflow:*** Available Device: _DeviceAttributes(/job:worker/replica:0/task:0/device:TPU:7, TPU, 0, 0)\n"
     ],
     "name": "stderr"
    },
    {
     "output_type": "stream",
     "text": [
      "INFO:tensorflow:*** Available Device: _DeviceAttributes(/job:worker/replica:0/task:0/device:TPU_SYSTEM:0, TPU_SYSTEM, 0, 0)\n"
     ],
     "name": "stdout"
    },
    {
     "output_type": "stream",
     "text": [
      "INFO:tensorflow:*** Available Device: _DeviceAttributes(/job:worker/replica:0/task:0/device:TPU_SYSTEM:0, TPU_SYSTEM, 0, 0)\n"
     ],
     "name": "stderr"
    },
    {
     "output_type": "stream",
     "text": [
      "INFO:tensorflow:*** Available Device: _DeviceAttributes(/job:worker/replica:0/task:0/device:XLA_CPU:0, XLA_CPU, 0, 0)\n"
     ],
     "name": "stdout"
    },
    {
     "output_type": "stream",
     "text": [
      "INFO:tensorflow:*** Available Device: _DeviceAttributes(/job:worker/replica:0/task:0/device:XLA_CPU:0, XLA_CPU, 0, 0)\n"
     ],
     "name": "stderr"
    },
    {
     "output_type": "stream",
     "text": [
      "REPLICAS:  8\n"
     ],
     "name": "stdout"
    }
   ]
  },
  {
   "cell_type": "markdown",
   "metadata": {
    "id": "u4JlnFSIMrlH"
   },
   "source": [
    "# Data Preprocessing"
   ]
  },
  {
   "cell_type": "markdown",
   "metadata": {
    "id": "O3qieE-oMx7y"
   },
   "source": [
    "This is to handle the text processing for different tasks"
   ]
  },
  {
   "cell_type": "code",
   "metadata": {
    "id": "fFljRNy_hihk"
   },
   "source": [
    "def pad_and_truncate(sequence, maxlen, dtype='int64', padding='post', truncating='post', value=0):\n",
    "    x = (np.ones(maxlen) * value).astype(dtype)\n",
    "    if truncating == 'pre':\n",
    "        trunc = sequence[-maxlen:]\n",
    "    else:\n",
    "        trunc = sequence[:maxlen]\n",
    "    trunc = np.asarray(trunc, dtype=dtype)\n",
    "    if padding == 'post':\n",
    "        x[:len(trunc)] = trunc\n",
    "    else:\n",
    "        x[-len(trunc):] = trunc\n",
    "    return x\n",
    "\n",
    "def get_dataset(data_path, tokenizer):\n",
    "\n",
    "    with open(data_path) as f:\n",
    "        json_data = json.load(f)\n",
    "\n",
    "    bqa, bqam, bqaid, bnli, bnlim, bnliid, p = [], [], [], [], [], [], []\n",
    "\n",
    "    # {'neutral': 0, 'positive': 1, 'negative': -1}\n",
    "    polarity_dict = json_data[\"polarity_library\"]\n",
    "    # {'service': 1, 'food': 2, 'anecdotes/miscellaneous': 3, 'price': 4, 'ambience': 5}\n",
    "    # aspect_dict = json_data[\"aspect_library\"]\n",
    "\n",
    "    # {\n",
    "    # 'text': 'But the staff was so horrible to us.',\n",
    "    # 'categories': [{'category': 'service', 'polarity': 'negative', 'polarity_id': -1, 'category_id': 1}],\n",
    "    # 'terms': [{'term': 'staff', 'polarity': 'negative', 'polarity_id': -1}]\n",
    "    # }\n",
    "    for sentence in json_data[\"data\"]:\n",
    "\n",
    "        text = sentence['text'].lower()\n",
    "        cat_arr = sentence[\"categories\"]\n",
    "\n",
    "        text_indices = tokenizer.text_to_sequence(text)\n",
    "        text_indices = pad_and_truncate(text_indices, tokenizer.max_seq_len)\n",
    "        text_len = np.sum(text_indices != 0)\n",
    "\n",
    "        for cat in cat_arr:\n",
    "            polarity = cat['polarity_id']\n",
    "            polarity = int(polarity) + 1\n",
    "\n",
    "            # Bert text----------------------------------------------------------------------------------------------\n",
    "\n",
    "            #bert QA_M\n",
    "            text_QA_M = \"what do you think of the \" + cat['category'] + \" of it?\"\n",
    "            bert_QA_M = tokenizer.text_to_sequence(text + ' [SEP] ' + text_QA_M)\n",
    "            bert_QA_M = pad_and_truncate(bert_QA_M, tokenizer.max_seq_len)\n",
    "\n",
    "            #bert NLI_M\n",
    "            bert_NLI_M = tokenizer.text_to_sequence(text + ' [SEP] ' + cat['category'])\n",
    "            bert_NLI_M = pad_and_truncate(bert_NLI_M, tokenizer.max_seq_len)\n",
    "\n",
    "            # token_type_ids----------------------------------------------------------------------------------------------\n",
    "            # Segment token indices to indicate first and second portions of the inputs. Indices are selected in [0, 1]:\n",
    "\n",
    "            #bert_QA_M\n",
    "            bert_QA_M_len = tokenizer.text_to_sequence(text_QA_M, add_special_tokens=True)\n",
    "            bert_QA_M_len = pad_and_truncate(bert_QA_M_len, tokenizer.max_seq_len)\n",
    "            bert_QA_M_len = np.sum(bert_QA_M_len != 0)\n",
    "            bert_QA_M_token = [0] * (text_len-1) + [1] * bert_QA_M_len # already included + 2 tokens\n",
    "            bert_QA_M_token = pad_and_truncate(bert_QA_M_token, tokenizer.max_seq_len)\n",
    "\n",
    "            #bert_NLI_M\n",
    "            bert_NLI_M_len = tokenizer.text_to_sequence(cat['category'], add_special_tokens=True)\n",
    "            bert_NLI_M_len = pad_and_truncate(bert_NLI_M_len, tokenizer.max_seq_len)\n",
    "            bert_NLI_M_len = np.sum(bert_NLI_M_len != 0)\n",
    "            bert_NLI_M_token = [0] * (text_len-1) + [1] * bert_NLI_M_len # already included + 2 tokens\n",
    "            bert_NLI_M_token = pad_and_truncate(bert_NLI_M_token, tokenizer.max_seq_len)\n",
    "\n",
    "            # attention_mask----------------------------------------------------------------------------------------------\n",
    "\n",
    "            #bert_QA_M\n",
    "            bert_QA_M_attention_mask = [1] * (text_len+bert_QA_M_len-1) + [0]\n",
    "            bert_QA_M_attention_mask = pad_and_truncate(bert_QA_M_attention_mask, tokenizer.max_seq_len)\n",
    "\n",
    "            #bert_NLI_M\n",
    "            bert_NLI_M_attention_mask = [1] * (text_len+bert_NLI_M_len-1) + [0]\n",
    "            bert_NLI_M_attention_mask = pad_and_truncate(bert_NLI_M_attention_mask, tokenizer.max_seq_len)\n",
    "\n",
    "            bqa.append(bert_QA_M)\n",
    "            bqam.append(bert_QA_M_attention_mask)\n",
    "            bqaid.append(bert_QA_M_token)\n",
    "            bnli.append(bert_NLI_M)\n",
    "            bnlim.append(bert_NLI_M_attention_mask)\n",
    "            bnliid.append(bert_NLI_M_token)\n",
    "            p.append(polarity)\n",
    "\n",
    "    return {\n",
    "            'bert_QA_M': bqa,\n",
    "            'bert_QA_M_attention_mask': bqam,\n",
    "            'bert_QA_M_token_id': bqaid,\n",
    "            'bert_NLI_M': bnli,\n",
    "            'bert_NLI_M_attention_mask': bnlim,\n",
    "            'bert_NLI_M_token_id': bnliid,\n",
    "            'polarity': p\n",
    "        }\n"
   ],
   "execution_count": null,
   "outputs": []
  },
  {
   "cell_type": "code",
   "metadata": {
    "id": "TiznbJd7je5B"
   },
   "source": [
    "class Tokeniser:\n",
    "  def __init__(self, max_seq_len):\n",
    "      BERT_PRETRAINED_NAME = 'bert-base-uncased'\n",
    "      self.tokeniser = BertTokenizer.from_pretrained(BERT_PRETRAINED_NAME)\n",
    "      self.max_seq_len = max_seq_len\n",
    "\n",
    "  def text_to_sequence(self, text, add_special_tokens=True):\n",
    "      sequence = self.tokeniser.encode(text, add_special_tokens=add_special_tokens) # max_length=self.max_seq_len, truncation=truncate, padding=padding\n",
    "      if len(sequence) == 0:\n",
    "          sequence = [0]\n",
    "      return sequence"
   ],
   "execution_count": null,
   "outputs": []
  },
  {
   "cell_type": "markdown",
   "metadata": {
    "id": "nNXxMX77_Mgc"
   },
   "source": [
    "you need to select your task your task for the classification \n",
    "\n",
    "bert-qa/ bert-nli"
   ]
  },
  {
   "cell_type": "code",
   "metadata": {
    "id": "MVxoNKD8_KNw"
   },
   "source": [
    "TASK_NAME = 'bert-qa'\n",
    "# TASK_NAME = 'bert-nli'"
   ],
   "execution_count": null,
   "outputs": []
  },
  {
   "cell_type": "code",
   "metadata": {
    "id": "RmO6Ht_eiS_M"
   },
   "source": [
    "BERT_PRETRAINED_NAME = 'bert-base-uncased'\n",
    "MAX_SEQ_LEN = 128\n",
    "\n",
    "TRAIN_PATH='/path/to/BERT-ABSA/datasets/json_with_conflict/Restaurants_Original_Train.json'\n",
    "TEST_PATH='/path/to/BERT-ABSA/datasets/json_with_conflict/Restaurants_Original_Test.json'\n",
    "BERT_PRETRAINED_NAME = 'bert-base-uncased'\n"
   ],
   "execution_count": null,
   "outputs": []
  },
  {
   "cell_type": "code",
   "metadata": {
    "id": "nL8XIbU5tOzD"
   },
   "source": [
    "tokenizer = Tokeniser(MAX_SEQ_LEN)\n",
    "# pre_split_train = get_dataset(TRAIN_PATH, tokenizer)\n",
    "train = get_dataset(TRAIN_PATH, tokenizer)\n",
    "test = get_dataset(TEST_PATH, tokenizer)"
   ],
   "execution_count": null,
   "outputs": []
  },
  {
   "cell_type": "markdown",
   "metadata": {
    "id": "ay5gXdVOM_TT"
   },
   "source": [
    "Declaration of weight classes"
   ]
  },
  {
   "cell_type": "code",
   "metadata": {
    "colab": {
     "base_uri": "https://localhost:8080/"
    },
    "id": "6CKlOh99tJq2",
    "executionInfo": {
     "status": "ok",
     "timestamp": 1620451544059,
     "user_tz": -480,
     "elapsed": 882,
     "user": {
      "displayName": "May Wang",
      "photoUrl": "",
      "userId": "18102931076838470424"
     }
    },
    "outputId": "27b53135-f63b-4e1a-ac8d-a94b6c65bc0a"
   },
   "source": [
    "from sklearn.utils import compute_class_weight\n",
    "\n",
    "class_weights = compute_class_weight('balanced', np.unique(train['polarity']), train['polarity'])\n",
    "d_class_weights = dict(enumerate(class_weights))\n",
    "print(d_class_weights)"
   ],
   "execution_count": null,
   "outputs": [
    {
     "output_type": "stream",
     "text": [
      "{0: 3.628605482717521, 1: 6.076646706586827, 2: 1.3977961432506887, 3: 15.53265306122449, 4: 0.26454640250260686}\n"
     ],
     "name": "stdout"
    }
   ]
  },
  {
   "cell_type": "code",
   "metadata": {
    "id": "HnVgPW7gcgX_"
   },
   "source": [
    "NUM_CLASSES = len(np.unique(train['polarity']))\n",
    "EPOCH = 50\n",
    "LR = 2e-5\n",
    "BATCH_SIZE = 24 * strategy.num_replicas_in_sync\n",
    "steps_per_epoch = len(train['polarity']) // BATCH_SIZE\n",
    "validation_steps= len(test['polarity']) // BATCH_SIZE\n",
    "DROPOUT_VALUE = 0.4"
   ],
   "execution_count": null,
   "outputs": []
  },
  {
   "cell_type": "markdown",
   "metadata": {
    "id": "UQr61YjYNa6K"
   },
   "source": [
    "# Model"
   ]
  },
  {
   "cell_type": "markdown",
   "metadata": {
    "id": "ZoqOu1JkYv0M"
   },
   "source": [
    "building the model using TFBertForSequenceClassification"
   ]
  },
  {
   "cell_type": "code",
   "metadata": {
    "colab": {
     "base_uri": "https://localhost:8080/"
    },
    "id": "z_8ontN9rnCk",
    "executionInfo": {
     "status": "ok",
     "timestamp": 1620451589873,
     "user_tz": -480,
     "elapsed": 46681,
     "user": {
      "displayName": "May Wang",
      "photoUrl": "",
      "userId": "18102931076838470424"
     }
    },
    "outputId": "f3a0ceb5-8ad7-4803-cf59-19253591e950"
   },
   "source": [
    "with strategy.scope():\n",
    "  model = TFBertForSequenceClassification.from_pretrained(BERT_PRETRAINED_NAME, hidden_dropout_prob=DROPOUT_VALUE, num_labels=NUM_CLASSES)"
   ],
   "execution_count": null,
   "outputs": [
    {
     "output_type": "stream",
     "text": [
      "WARNING:transformers.modeling_tf_utils:Some weights of the model checkpoint at bert-base-uncased were not used when initializing TFBertForSequenceClassification: ['mlm___cls', 'nsp___cls']\n",
      "- This IS expected if you are initializing TFBertForSequenceClassification from the checkpoint of a model trained on another task or with another architecture (e.g. initializing a BertForSequenceClassification model from a BertForPretraining model).\n",
      "- This IS NOT expected if you are initializing TFBertForSequenceClassification from the checkpoint of a model that you expect to be exactly identical (initializing a BertForSequenceClassification model from a BertForSequenceClassification model).\n",
      "WARNING:transformers.modeling_tf_utils:Some weights of TFBertForSequenceClassification were not initialized from the model checkpoint at bert-base-uncased and are newly initialized: ['dropout_75', 'classifier']\n",
      "You should probably TRAIN this model on a down-stream task to be able to use it for predictions and inference.\n"
     ],
     "name": "stderr"
    }
   ]
  },
  {
   "cell_type": "code",
   "metadata": {
    "colab": {
     "base_uri": "https://localhost:8080/"
    },
    "id": "vB3W51Lb6CI5",
    "executionInfo": {
     "status": "ok",
     "timestamp": 1620451589874,
     "user_tz": -480,
     "elapsed": 46674,
     "user": {
      "displayName": "May Wang",
      "photoUrl": "",
      "userId": "18102931076838470424"
     }
    },
    "outputId": "58f860ae-70a6-4d73-d9f2-ffa5d5b64b17"
   },
   "source": [
    "print('\\nBert Model',model.summary())"
   ],
   "execution_count": null,
   "outputs": [
    {
     "output_type": "stream",
     "text": [
      "Model: \"tf_bert_for_sequence_classification_1\"\n",
      "_________________________________________________________________\n",
      "Layer (type)                 Output Shape              Param #   \n",
      "=================================================================\n",
      "bert (TFBertMainLayer)       multiple                  109482240 \n",
      "_________________________________________________________________\n",
      "dropout_75 (Dropout)         multiple                  0         \n",
      "_________________________________________________________________\n",
      "classifier (Dense)           multiple                  3845      \n",
      "=================================================================\n",
      "Total params: 109,486,085\n",
      "Trainable params: 109,486,085\n",
      "Non-trainable params: 0\n",
      "_________________________________________________________________\n",
      "\n",
      "Bert Model None\n"
     ],
     "name": "stdout"
    }
   ]
  },
  {
   "cell_type": "markdown",
   "metadata": {
    "id": "iJ1Ioj-JZRVb"
   },
   "source": [
    "Training the model"
   ]
  },
  {
   "cell_type": "code",
   "metadata": {
    "colab": {
     "base_uri": "https://localhost:8080/"
    },
    "id": "idPgigIkWczf",
    "executionInfo": {
     "status": "ok",
     "timestamp": 1617301147904,
     "user_tz": -480,
     "elapsed": 813893,
     "user": {
      "displayName": "sean poh",
      "photoUrl": "",
      "userId": "09943683080325807772"
     }
    },
    "outputId": "c3c5ecea-f9e1-4307-d193-cb276db604d9"
   },
   "source": [
    "import matplotlib.pyplot as plt\n",
    "from sklearn import metrics\n",
    "\n",
    "input_colses = {\n",
    "        \"bert-qa\": [\"bert_QA_M\", \"bert_QA_M_attention_mask\", \"bert_QA_M_token_id\"],\n",
    "        \"bert-nli\": [\"bert_NLI_M\", \"bert_NLI_M_attention_mask\", \"bert_NLI_M_token_id\"]\n",
    "    }\n",
    "\n",
    "inputs_cols = input_colses[TASK_NAME]\n",
    "\n",
    "AUTO = tf.data.experimental.AUTOTUNE\n",
    "train_dataset = (\n",
    "  tf.data.Dataset\n",
    "  .from_tensor_slices(({\"input_ids\": list(train[inputs_cols[0]]), \"attention_mask\": list(train[inputs_cols[1]]), \"token_type_ids\": list(train[inputs_cols[2]])},list(train['polarity'])))\n",
    "  .batch(BATCH_SIZE)\n",
    "  .repeat()\n",
    "  .cache()\n",
    "  .prefetch(AUTO)\n",
    ")\n",
    "\n",
    "valid_dataset = (\n",
    "  tf.data.Dataset\n",
    "  .from_tensor_slices(({\"input_ids\": list(test[inputs_cols[0]]), \"attention_mask\": list(test[inputs_cols[1]]), \"token_type_ids\": list(test[inputs_cols[2]])}, list(test['polarity'])))\n",
    "  .batch(BATCH_SIZE)\n",
    "  .repeat()\n",
    "  .cache()\n",
    "  .prefetch(AUTO)\n",
    ")\n",
    "\n",
    "with strategy.scope():\n",
    "  callback = EarlyStopping(monitor='val_loss', patience=10, restore_best_weights=True)\n",
    "  reduce_lr = ReduceLROnPlateau(monitor='val_loss', factor=0.2, patience=3, min_lr=1e-6)\n",
    "\n",
    "  model.compile(loss= tf.keras.losses.SparseCategoricalCrossentropy(from_logits=True), #tf.nn.sparse_softmax_cross_entropy_with_logits \n",
    "                     optimizer= tf.keras.optimizers.Adam(learning_rate=LR,epsilon=1e-08),\n",
    "                     metrics=[tf.keras.metrics.SparseCategoricalAccuracy('accuracy')])\n",
    "\n",
    "\n",
    "  print(\"currently training for :\", TASK_NAME)\n",
    "  print()\n",
    "  # tpu\n",
    "  hist = model.fit(\n",
    "    train_dataset,\n",
    "    steps_per_epoch=steps_per_epoch,\n",
    "    epochs=EPOCH,\n",
    "    class_weight=d_class_weights,\n",
    "    # batch_size=batch_size,\n",
    "    shuffle=True,\n",
    "    # validation_split=0.2,\n",
    "    validation_data=valid_dataset,\n",
    "    validation_steps=validation_steps,\n",
    "    callbacks=[reduce_lr, callback]\n",
    "  )\n"
   ],
   "execution_count": null,
   "outputs": [
    {
     "output_type": "stream",
     "text": [
      "currently training for : bert-qa\n",
      "\n",
      "Epoch 1/50\n",
      "79/79 [==============================] - 97s 291ms/step - loss: 1.5937 - accuracy: 0.1650 - val_loss: 1.3999 - val_accuracy: 0.5969\n",
      "Epoch 2/50\n",
      "79/79 [==============================] - 57s 182ms/step - loss: 1.4549 - accuracy: 0.4904 - val_loss: 0.8983 - val_accuracy: 0.7568\n",
      "Epoch 3/50\n",
      "79/79 [==============================] - 14s 181ms/step - loss: 1.1997 - accuracy: 0.6995 - val_loss: 0.7449 - val_accuracy: 0.7773\n",
      "Epoch 4/50\n",
      "79/79 [==============================] - 14s 180ms/step - loss: 1.0250 - accuracy: 0.7245 - val_loss: 0.5892 - val_accuracy: 0.8242\n",
      "Epoch 5/50\n",
      "79/79 [==============================] - 14s 180ms/step - loss: 0.8989 - accuracy: 0.7613 - val_loss: 0.5106 - val_accuracy: 0.8417\n",
      "Epoch 6/50\n",
      "79/79 [==============================] - 14s 180ms/step - loss: 0.8028 - accuracy: 0.7882 - val_loss: 0.5322 - val_accuracy: 0.8339\n",
      "Epoch 7/50\n",
      "79/79 [==============================] - 14s 180ms/step - loss: 0.7302 - accuracy: 0.7993 - val_loss: 0.4741 - val_accuracy: 0.8500\n",
      "Epoch 8/50\n",
      "79/79 [==============================] - 14s 180ms/step - loss: 0.7271 - accuracy: 0.8130 - val_loss: 0.4323 - val_accuracy: 0.8648\n",
      "Epoch 9/50\n",
      "79/79 [==============================] - 14s 181ms/step - loss: 0.6109 - accuracy: 0.8327 - val_loss: 0.4154 - val_accuracy: 0.8760\n",
      "Epoch 10/50\n",
      "79/79 [==============================] - 14s 180ms/step - loss: 0.5721 - accuracy: 0.8396 - val_loss: 0.3977 - val_accuracy: 0.8810\n",
      "Epoch 11/50\n",
      "79/79 [==============================] - 14s 180ms/step - loss: 0.5240 - accuracy: 0.8491 - val_loss: 0.4354 - val_accuracy: 0.8732\n",
      "Epoch 12/50\n",
      "79/79 [==============================] - 14s 180ms/step - loss: 0.4573 - accuracy: 0.8573 - val_loss: 0.4009 - val_accuracy: 0.8815\n",
      "Epoch 13/50\n",
      "79/79 [==============================] - 14s 180ms/step - loss: 0.4430 - accuracy: 0.8614 - val_loss: 0.3893 - val_accuracy: 0.8893\n",
      "Epoch 14/50\n",
      "79/79 [==============================] - 14s 180ms/step - loss: 0.3969 - accuracy: 0.8731 - val_loss: 0.3919 - val_accuracy: 0.8919\n",
      "Epoch 15/50\n",
      "79/79 [==============================] - 14s 180ms/step - loss: 0.3915 - accuracy: 0.8736 - val_loss: 0.3925 - val_accuracy: 0.8891\n",
      "Epoch 16/50\n",
      "79/79 [==============================] - 14s 181ms/step - loss: 0.3781 - accuracy: 0.8748 - val_loss: 0.4107 - val_accuracy: 0.8849\n",
      "Epoch 17/50\n",
      "79/79 [==============================] - 14s 181ms/step - loss: 0.3699 - accuracy: 0.8698 - val_loss: 0.3675 - val_accuracy: 0.8990\n",
      "Epoch 18/50\n",
      "79/79 [==============================] - 14s 181ms/step - loss: 0.3165 - accuracy: 0.8868 - val_loss: 0.3683 - val_accuracy: 0.8992\n",
      "Epoch 19/50\n",
      "79/79 [==============================] - 14s 181ms/step - loss: 0.3074 - accuracy: 0.8951 - val_loss: 0.3688 - val_accuracy: 0.9005\n",
      "Epoch 20/50\n",
      "79/79 [==============================] - 14s 181ms/step - loss: 0.2712 - accuracy: 0.8993 - val_loss: 0.3740 - val_accuracy: 0.8987\n",
      "Epoch 21/50\n",
      "79/79 [==============================] - 14s 181ms/step - loss: 0.2803 - accuracy: 0.8986 - val_loss: 0.3694 - val_accuracy: 0.8995\n",
      "Epoch 22/50\n",
      "79/79 [==============================] - 14s 181ms/step - loss: 0.2803 - accuracy: 0.8994 - val_loss: 0.3695 - val_accuracy: 0.8992\n",
      "Epoch 23/50\n",
      "79/79 [==============================] - 14s 181ms/step - loss: 0.2600 - accuracy: 0.9009 - val_loss: 0.3663 - val_accuracy: 0.8990\n",
      "Epoch 24/50\n",
      "79/79 [==============================] - 14s 180ms/step - loss: 0.2668 - accuracy: 0.9001 - val_loss: 0.3673 - val_accuracy: 0.9000\n",
      "Epoch 25/50\n",
      "79/79 [==============================] - 14s 180ms/step - loss: 0.2548 - accuracy: 0.9057 - val_loss: 0.3664 - val_accuracy: 0.8997\n",
      "Epoch 26/50\n",
      "79/79 [==============================] - 14s 181ms/step - loss: 0.2632 - accuracy: 0.9008 - val_loss: 0.3693 - val_accuracy: 0.8997\n",
      "Epoch 27/50\n",
      "79/79 [==============================] - 14s 181ms/step - loss: 0.2693 - accuracy: 0.8975 - val_loss: 0.3668 - val_accuracy: 0.9003\n",
      "Epoch 28/50\n",
      "79/79 [==============================] - 14s 181ms/step - loss: 0.2834 - accuracy: 0.8990 - val_loss: 0.3673 - val_accuracy: 0.8987\n",
      "Epoch 29/50\n",
      "79/79 [==============================] - 14s 181ms/step - loss: 0.2699 - accuracy: 0.8965 - val_loss: 0.3650 - val_accuracy: 0.8990\n",
      "Epoch 30/50\n",
      "79/79 [==============================] - 14s 181ms/step - loss: 0.2579 - accuracy: 0.9024 - val_loss: 0.3628 - val_accuracy: 0.9005\n",
      "Epoch 31/50\n",
      "79/79 [==============================] - 14s 181ms/step - loss: 0.2497 - accuracy: 0.9070 - val_loss: 0.3644 - val_accuracy: 0.9003\n",
      "Epoch 32/50\n",
      "79/79 [==============================] - 14s 181ms/step - loss: 0.2618 - accuracy: 0.9012 - val_loss: 0.3617 - val_accuracy: 0.9008\n",
      "Epoch 33/50\n",
      "79/79 [==============================] - 14s 180ms/step - loss: 0.2541 - accuracy: 0.9075 - val_loss: 0.3637 - val_accuracy: 0.9010\n",
      "Epoch 34/50\n",
      "79/79 [==============================] - 14s 181ms/step - loss: 0.2568 - accuracy: 0.9061 - val_loss: 0.3632 - val_accuracy: 0.8997\n",
      "Epoch 35/50\n",
      "79/79 [==============================] - 14s 181ms/step - loss: 0.2474 - accuracy: 0.9058 - val_loss: 0.3629 - val_accuracy: 0.9003\n",
      "Epoch 36/50\n",
      "79/79 [==============================] - 14s 181ms/step - loss: 0.2639 - accuracy: 0.9044 - val_loss: 0.3667 - val_accuracy: 0.8995\n",
      "Epoch 37/50\n",
      "79/79 [==============================] - 14s 181ms/step - loss: 0.2459 - accuracy: 0.9074 - val_loss: 0.3634 - val_accuracy: 0.8997\n",
      "Epoch 38/50\n",
      "79/79 [==============================] - 14s 181ms/step - loss: 0.2572 - accuracy: 0.9064 - val_loss: 0.3623 - val_accuracy: 0.9010\n",
      "Epoch 39/50\n",
      "79/79 [==============================] - 14s 180ms/step - loss: 0.2414 - accuracy: 0.9081 - val_loss: 0.3631 - val_accuracy: 0.9010\n",
      "Epoch 40/50\n",
      "79/79 [==============================] - 14s 181ms/step - loss: 0.2542 - accuracy: 0.9090 - val_loss: 0.3635 - val_accuracy: 0.9010\n",
      "Epoch 41/50\n",
      "79/79 [==============================] - 14s 181ms/step - loss: 0.2522 - accuracy: 0.9075 - val_loss: 0.3645 - val_accuracy: 0.9008\n",
      "Epoch 42/50\n",
      "79/79 [==============================] - 14s 181ms/step - loss: 0.2467 - accuracy: 0.9105 - val_loss: 0.3649 - val_accuracy: 0.9013\n"
     ],
     "name": "stdout"
    }
   ]
  },
  {
   "cell_type": "markdown",
   "metadata": {
    "id": "Qph77PnuMfsQ"
   },
   "source": [
    "# Evaluation of models and results"
   ]
  },
  {
   "cell_type": "code",
   "metadata": {
    "colab": {
     "base_uri": "https://localhost:8080/",
     "height": 1000
    },
    "id": "QRbJgj1TZ46O",
    "executionInfo": {
     "status": "ok",
     "timestamp": 1617301338007,
     "user_tz": -480,
     "elapsed": 19058,
     "user": {
      "displayName": "sean poh",
      "photoUrl": "",
      "userId": "09943683080325807772"
     }
    },
    "outputId": "367d2414-0a87-4f2b-cc7e-3c87754b05e6"
   },
   "source": [
    "print('------------------------ THIS IS RESULTS FOR ', TASK_NAME.upper(), '--------------------------')\n",
    "print()\n",
    "\n",
    "plt.figure(figsize=(10,5))\n",
    "plt.plot(hist.history['accuracy'])\n",
    "plt.plot(hist.history['val_accuracy'])\n",
    "plt.title('Accuracy plot')\n",
    "plt.ylabel('accuracy')\n",
    "plt.xlabel('epoch')\n",
    "plt.legend(['train', 'val'], loc='lower right')\n",
    "plt.show()\n",
    "\n",
    "plt.figure(figsize=(10,5))\n",
    "plt.plot(hist.history['loss'])\n",
    "plt.plot(hist.history['val_loss'])\n",
    "plt.title('Loss')\n",
    "plt.ylabel('loss')\n",
    "plt.xlabel('epoch')\n",
    "plt.legend(['train', 'val'], loc='upper right')\n",
    "plt.show()\n",
    "\n",
    "plt.figure(figsize=(10,5))\n",
    "plt.plot(hist.history['lr'])\n",
    "plt.title('LR')\n",
    "plt.ylabel('LR')\n",
    "plt.xlabel('epoch')\n",
    "plt.legend(['train', 'val'], loc='upper right')\n",
    "plt.show()\n",
    "\n",
    "target_names = ['Negative', 'Neutral', 'Positive', 'None'] if NUM_CLASSES == 4 else ['Negative', 'Neutral', 'Positive', 'Conflicts', 'None']\n",
    "\n",
    "test_dataset = (\n",
    "      tf.data.Dataset\n",
    "      .from_tensor_slices(({\"input_ids\": list(test[inputs_cols[0]]), \"attention_mask\": list(test[inputs_cols[1]]), \"token_type_ids\": list(test[inputs_cols[2]])}))\n",
    "      .batch(BATCH_SIZE)\n",
    "      .prefetch(AUTO)\n",
    "    )\n",
    "\n",
    "predictions = model.predict(test_dataset, verbose=1)\n",
    "predictions = tf.nn.softmax(tf.constant(predictions)[0])\n",
    "# print(predictions)\n",
    "y_pred_argmax = np.argmax(tf.constant(predictions), axis=1)#tf.math.argmax(y_pred, axis=1)\n",
    "print(metrics.classification_report(list(test['polarity']), y_pred_argmax, target_names=target_names))\n"
   ],
   "execution_count": null,
   "outputs": [
    {
     "output_type": "stream",
     "text": [
      "------------------------ THIS IS RESULTS FOR  BERT-QA --------------------------\n",
      "\n"
     ],
     "name": "stdout"
    },
    {
     "output_type": "display_data",
     "data": {
      "image/png": "[encoded data removed]",
      "text/plain": [
       "<Figure size 720x360 with 1 Axes>"
      ]
     },
     "metadata": {
      "tags": [],
      "needs_background": "light"
     }
    },
    {
     "output_type": "display_data",
     "data": {
      "image/png": "[encoded data removed]",
      "text/plain": [
       "<Figure size 720x360 with 1 Axes>"
      ]
     },
     "metadata": {
      "tags": [],
      "needs_background": "light"
     }
    },
    {
     "output_type": "display_data",
     "data": {
      "image/png": "[encoded data removed]",
      "text/plain": [
       "<Figure size 720x360 with 1 Axes>"
      ]
     },
     "metadata": {
      "tags": [],
      "needs_background": "light"
     }
    },
    {
     "output_type": "stream",
     "text": [
      "21/21 [==============================] - 15s 566ms/step\n",
      "              precision    recall  f1-score   support\n",
      "\n",
      "    Negative       0.61      0.77      0.68       222\n",
      "     Neutral       0.49      0.67      0.57        94\n",
      "    Positive       0.81      0.87      0.84       657\n",
      "   Conflicts       0.32      0.44      0.37        52\n",
      "        None       0.98      0.93      0.96      2975\n",
      "\n",
      "    accuracy                           0.90      4000\n",
      "   macro avg       0.64      0.74      0.68      4000\n",
      "weighted avg       0.91      0.90      0.90      4000\n",
      "\n"
     ],
     "name": "stdout"
    }
   ]
  },
  {
   "cell_type": "markdown",
   "metadata": {
    "id": "eL5Zh0-dZf2I"
   },
   "source": [
    "# Original results from the experiments\n",
    "\n",
    "These are the original results from the paper\n",
    "\n",
    "It involves none, negative, neutral, positive, conflict"
   ]
  },
  {
   "cell_type": "markdown",
   "metadata": {
    "id": "qHCynDRFPYuj"
   },
   "source": [
    "### BERT-QA"
   ]
  },
  {
   "cell_type": "code",
   "metadata": {
    "colab": {
     "base_uri": "https://localhost:8080/",
     "height": 1000
    },
    "id": "1PCQ2ktHPYD7",
    "executionInfo": {
     "status": "ok",
     "timestamp": 1615969397538,
     "user_tz": -480,
     "elapsed": 17227,
     "user": {
      "displayName": "sean poh",
      "photoUrl": "",
      "userId": "09943683080325807772"
     }
    },
    "outputId": "89d08a48-3524-4cf1-a482-a52589956d67"
   },
   "source": [
    "plt.figure(figsize=(10,5))\n",
    "plt.plot(hist.history['accuracy'])\n",
    "plt.plot(hist.history['val_accuracy'])\n",
    "plt.title('Accuracy plot')\n",
    "plt.ylabel('accuracy')\n",
    "plt.xlabel('epoch')\n",
    "plt.legend(['train', 'val'], loc='lower right')\n",
    "plt.show()\n",
    "\n",
    "plt.figure(figsize=(10,5))\n",
    "plt.plot(hist.history['loss'])\n",
    "plt.plot(hist.history['val_loss'])\n",
    "plt.title('Loss')\n",
    "plt.ylabel('loss')\n",
    "plt.xlabel('epoch')\n",
    "plt.legend(['train', 'val'], loc='upper right')\n",
    "plt.show()\n",
    "\n",
    "plt.figure(figsize=(10,5))\n",
    "plt.plot(hist.history['lr'])\n",
    "plt.title('LR')\n",
    "plt.ylabel('LR')\n",
    "plt.xlabel('epoch')\n",
    "plt.legend(['train', 'val'], loc='upper right')\n",
    "plt.show()\n",
    "\n",
    "target_names = ['Negative', 'Neutral', 'Positive', 'None'] if NUM_CLASSES == 4 else ['Negative', 'Neutral', 'Positive', 'Conflicts', 'None']\n",
    "\n",
    "test_dataset = (\n",
    "      tf.data.Dataset\n",
    "      .from_tensor_slices(({\"input_ids\": list(test[inputs_cols[0]]), \"attention_mask\": list(test[inputs_cols[1]]), \"token_type_ids\": list(test[inputs_cols[2]])}))\n",
    "      .batch(BATCH_SIZE)\n",
    "      .prefetch(AUTO)\n",
    "    )\n",
    "\n",
    "predictions = model.predict(test_dataset, verbose=1)\n",
    "predictions = tf.nn.softmax(tf.constant(predictions)[0])\n",
    "# print(predictions)\n",
    "y_pred_argmax = np.argmax(tf.constant(predictions), axis=1)#tf.math.argmax(y_pred, axis=1)\n",
    "print(metrics.classification_report(list(test['polarity']), y_pred_argmax, target_names=target_names))\n"
   ],
   "execution_count": null,
   "outputs": [
    {
     "output_type": "display_data",
     "data": {
      "image/png": "[encoded data removed]",
      "text/plain": [
       "<Figure size 720x360 with 1 Axes>"
      ]
     },
     "metadata": {
      "tags": [],
      "needs_background": "light"
     }
    },
    {
     "output_type": "display_data",
     "data": {
      "image/png": "[encoded data removed]",
      "text/plain": [
       "<Figure size 720x360 with 1 Axes>"
      ]
     },
     "metadata": {
      "tags": [],
      "needs_background": "light"
     }
    },
    {
     "output_type": "display_data",
     "data": {
      "image/png": "[encoded data removed]",
      "text/plain": [
       "<Figure size 720x360 with 1 Axes>"
      ]
     },
     "metadata": {
      "tags": [],
      "needs_background": "light"
     }
    },
    {
     "output_type": "stream",
     "text": [
      "21/21 [==============================] - 15s 563ms/step\n",
      "              precision    recall  f1-score   support\n",
      "\n",
      "    Negative       0.62      0.81      0.70       222\n",
      "     Neutral       0.52      0.68      0.59        94\n",
      "    Positive       0.83      0.85      0.84       657\n",
      "   Conflicts       0.40      0.50      0.44        52\n",
      "        None       0.98      0.94      0.96      2975\n",
      "\n",
      "    accuracy                           0.91      4000\n",
      "   macro avg       0.67      0.76      0.71      4000\n",
      "weighted avg       0.92      0.91      0.91      4000\n",
      "\n"
     ],
     "name": "stdout"
    }
   ]
  },
  {
   "cell_type": "markdown",
   "metadata": {
    "id": "m0a_cj2GMJVT"
   },
   "source": [
    "### Bert-NLI"
   ]
  },
  {
   "cell_type": "code",
   "metadata": {
    "colab": {
     "base_uri": "https://localhost:8080/",
     "height": 1000
    },
    "id": "9qZC2DcKMELu",
    "executionInfo": {
     "status": "ok",
     "timestamp": 1615970110958,
     "user_tz": -480,
     "elapsed": 19721,
     "user": {
      "displayName": "sean poh",
      "photoUrl": "",
      "userId": "09943683080325807772"
     }
    },
    "outputId": "50b71e90-f1fc-4463-a06a-3d154b6d3cd6"
   },
   "source": [
    "plt.figure(figsize=(10,5))\n",
    "plt.plot(hist.history['accuracy'])\n",
    "plt.plot(hist.history['val_accuracy'])\n",
    "plt.title('Accuracy plot')\n",
    "plt.ylabel('accuracy')\n",
    "plt.xlabel('epoch')\n",
    "plt.legend(['train', 'val'], loc='lower right')\n",
    "plt.show()\n",
    "\n",
    "plt.figure(figsize=(10,5))\n",
    "plt.plot(hist.history['loss'])\n",
    "plt.plot(hist.history['val_loss'])\n",
    "plt.title('Loss')\n",
    "plt.ylabel('loss')\n",
    "plt.xlabel('epoch')\n",
    "plt.legend(['train', 'val'], loc='upper right')\n",
    "plt.show()\n",
    "\n",
    "plt.figure(figsize=(10,5))\n",
    "plt.plot(hist.history['lr'])\n",
    "plt.title('LR')\n",
    "plt.ylabel('LR')\n",
    "plt.xlabel('epoch')\n",
    "plt.legend(['train', 'val'], loc='upper right')\n",
    "plt.show()\n",
    "\n",
    "target_names = ['Negative', 'Neutral', 'Positive', 'None'] if NUM_CLASSES == 4 else ['Negative', 'Neutral', 'Positive', 'Conflicts', 'None']\n",
    "# target_names = ['Negative', 'Neutral', 'Positive', 'Conflicts']\n",
    "# target_names = ['Negative', 'Neutral', 'Positive']\n",
    "\n",
    "test_dataset = (\n",
    "      tf.data.Dataset\n",
    "      .from_tensor_slices(({\"input_ids\": list(test[inputs_cols[0]]), \"attention_mask\": list(test[inputs_cols[1]]), \"token_type_ids\": list(test[inputs_cols[2]])}))\n",
    "      .batch(BATCH_SIZE)\n",
    "      .prefetch(AUTO)\n",
    "    )\n",
    "\n",
    "predictions = model.predict(test_dataset, verbose=1)\n",
    "predictions = tf.nn.softmax(tf.constant(predictions)[0])\n",
    "# print(predictions)\n",
    "y_pred_argmax = np.argmax(tf.constant(predictions), axis=1)#tf.math.argmax(y_pred, axis=1)\n",
    "print(metrics.classification_report(list(test['polarity']), y_pred_argmax, target_names=target_names))\n"
   ],
   "execution_count": null,
   "outputs": [
    {
     "output_type": "display_data",
     "data": {
      "image/png": "[encoded data removed]",
      "text/plain": [
       "<Figure size 720x360 with 1 Axes>"
      ]
     },
     "metadata": {
      "tags": [],
      "needs_background": "light"
     }
    },
    {
     "output_type": "display_data",
     "data": {
      "image/png": "[encoded data removed]",
      "text/plain": [
       "<Figure size 720x360 with 1 Axes>"
      ]
     },
     "metadata": {
      "tags": [],
      "needs_background": "light"
     }
    },
    {
     "output_type": "display_data",
     "data": {
      "image/png": "[encoded data removed]",
      "text/plain": [
       "<Figure size 720x360 with 1 Axes>"
      ]
     },
     "metadata": {
      "tags": [],
      "needs_background": "light"
     }
    },
    {
     "output_type": "stream",
     "text": [
      "21/21 [==============================] - 15s 571ms/step\n",
      "              precision    recall  f1-score   support\n",
      "\n",
      "    Negative       0.57      0.80      0.67       222\n",
      "     Neutral       0.47      0.57      0.52        94\n",
      "    Positive       0.82      0.86      0.84       657\n",
      "   Conflicts       0.39      0.31      0.34        52\n",
      "        None       0.98      0.93      0.96      2975\n",
      "\n",
      "    accuracy                           0.90      4000\n",
      "   macro avg       0.65      0.70      0.67      4000\n",
      "weighted avg       0.91      0.90      0.90      4000\n",
      "\n"
     ],
     "name": "stdout"
    }
   ]
  }
 ]
}